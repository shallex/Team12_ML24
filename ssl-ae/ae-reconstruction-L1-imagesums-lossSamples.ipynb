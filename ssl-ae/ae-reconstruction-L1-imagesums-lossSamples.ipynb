{
 "cells": [
  {
   "cell_type": "code",
   "execution_count": 1,
   "id": "66cfe11a-c587-4a03-9b39-ece161a4eec6",
   "metadata": {},
   "outputs": [
    {
     "name": "stdout",
     "output_type": "stream",
     "text": [
      "Device: cuda\n",
      "Devices count: 1\n"
     ]
    }
   ],
   "source": [
    "import torch\n",
    "import torchvision\n",
    "import json\n",
    "import os\n",
    "from pathlib import Path\n",
    "import matplotlib.pyplot as plt\n",
    "import pandas as pd\n",
    "import numpy as np\n",
    "from tqdm import tqdm\n",
    "import random\n",
    "from collections import defaultdict\n",
    "from datetime import datetime\n",
    "from pathlib import Path\n",
    "from IPython.display import clear_output\n",
    "\n",
    "from torchvision.datasets import MNIST\n",
    "from torch.utils.data import Dataset\n",
    "\n",
    "from misc.utils import *\n",
    "from misc.datasets_ae import *\n",
    "from misc.autoencoder import *\n",
    "\n",
    "device = \"cuda\" if torch.cuda.is_available() else \"cpu\"\n",
    "print(\"Device: \" + device)\n",
    "print(f\"Devices count: {torch.cuda.device_count()}\")\n",
    "\n",
    "path = Path(\"./\").resolve()\n",
    "experiments_path = path / \"MNIST/\"\n",
    "models_path = experiments_path / \"models/\"\n",
    "results_path = experiments_path / \"results/\"\n",
    "\n",
    "# seeding\n",
    "SEED = 12\n",
    "torch.manual_seed(SEED)\n",
    "torch.cuda.manual_seed_all(SEED)\n",
    "random.seed(SEED)\n",
    "np.random.seed(SEED)\n",
    "\n",
    "# for seeding dataloaders in .py\n",
    "# g = torch.Generator()\n",
    "# g.manual_seed(SEED)\n",
    "# def seed_worker(worker_id):\n",
    "#     worker_seed = torch.initial_seed() % 2**32\n",
    "#     numpy.random.seed(worker_seed)\n",
    "#     random.seed(worker_seed)"
   ]
  },
  {
   "cell_type": "markdown",
   "id": "2dca8d6a-e730-477c-a685-36c5f605657a",
   "metadata": {},
   "source": [
    "### Global settings"
   ]
  },
  {
   "cell_type": "code",
   "execution_count": 2,
   "id": "7cbab7db-8246-407f-b49d-b567f5c2f5b4",
   "metadata": {},
   "outputs": [],
   "source": [
    "\"\"\" \n",
    "Training parameters\n",
    "\"\"\"\n",
    "# Autoencoder\n",
    "X_latent_dim = 10             # Input dimension after compression.\n",
    "X_autoencoder_n_epochs = 300  # Number of epochs to train the autoencoder.\n",
    "X_autoencoder = Autoencoder(\n",
    "    MNIST_ConvEncoder(latent_dim=X_latent_dim), \n",
    "    MNIST_ConvDecoder(latent_dim=X_latent_dim) ).to(device)\n",
    "\n",
    "# Data\n",
    "autoencoder_batch_size_train = 512\n",
    "autoencoder_batch_size_test  = 1024\n",
    "\n",
    "# Training\n",
    "autoencoder_loss = torch.nn.L1Loss()\n",
    "lr = 1e-3\n",
    "autoencoder_opt = torch.optim.Adam(X_autoencoder.parameters(), lr=lr)    \n",
    "\n",
    "# Samplewise Metrics\n",
    "loss_samplewise = torch.nn.L1Loss(reduction='none')"
   ]
  },
  {
   "cell_type": "markdown",
   "id": "a3d13b8b-47c5-4717-a88b-486a7774dfac",
   "metadata": {},
   "source": [
    "## Dataset"
   ]
  },
  {
   "cell_type": "code",
   "execution_count": 3,
   "id": "0d2b9cef-60aa-4908-a6f3-6d9159ae3575",
   "metadata": {},
   "outputs": [],
   "source": [
    "image_transform = torchvision.transforms.Compose([\n",
    "    torchvision.transforms.ToTensor(),\n",
    "    torchvision.transforms.Normalize((0.1307,), (0.3081,))\n",
    "])"
   ]
  },
  {
   "cell_type": "code",
   "execution_count": 4,
   "id": "2c302959",
   "metadata": {},
   "outputs": [],
   "source": [
    "train_dataset = MNIST(root=\"./.cache\", download=True, transform=image_transform)\n",
    "test_dataset = MNIST(root=\"./.cache\", download=True, transform=image_transform, train=False)"
   ]
  },
  {
   "cell_type": "code",
   "execution_count": 5,
   "id": "223bd068",
   "metadata": {},
   "outputs": [],
   "source": [
    "aug_ratio = 0.1\n",
    "train_dataset_sums = MNIST_w_imagesums(train_dataset, aug_ratio=aug_ratio)"
   ]
  },
  {
   "cell_type": "code",
   "execution_count": 6,
   "id": "042424da",
   "metadata": {},
   "outputs": [
    {
     "data": {
      "text/plain": [
       "'\\nComparing statistics of default and distorted images\\n'"
      ]
     },
     "execution_count": 6,
     "metadata": {},
     "output_type": "execute_result"
    }
   ],
   "source": [
    "\"\"\"\n",
    "Comparing statistics of default and distorted images\n",
    "\"\"\"\n",
    "# dataloader1 = torch.utils.data.DataLoader(\n",
    "#     train_dataset_sums, \n",
    "#     batch_size=1, \n",
    "#     shuffle=False\n",
    "# )\n",
    "\n",
    "\n",
    "# mu_base, var_base = [], []\n",
    "# mu_aug, var_aug = [], []\n",
    "    \n",
    "# for i, val in tqdm(enumerate(dataloader1)):\n",
    "#     if (i > (1-aug_ratio)*len(train_dataset)):\n",
    "#         mu_aug.append(val[0][0][0].numpy().mean())\n",
    "#         var_aug.append(val[0][0][0].numpy().std())\n",
    "#     else:\n",
    "#         mu_base.append(val[0][0][0].numpy().mean())\n",
    "#         var_base.append(val[0][0][0].numpy().std())\n",
    "        \n",
    "# print(\"base imgs stats\",  np.mean(mu_base), np.mean(var_base))\n",
    "# print(\"aug imgs stats\",  np.mean(mu_aug), np.mean(var_aug))\n",
    "\n",
    "# plt.hist(mu_base,bins=50)\n",
    "# plt.hist(mu_aug,bins=50)\n",
    "# plt.title('mean')\n",
    "# plt.show()\n",
    "\n",
    "# plt.hist(var_base,bins=50)\n",
    "# plt.hist(var_aug,bins=50)\n",
    "# plt.title('std')\n",
    "# plt.show()"
   ]
  },
  {
   "cell_type": "code",
   "execution_count": 7,
   "id": "d48663be",
   "metadata": {
    "scrolled": false
   },
   "outputs": [],
   "source": [
    "# train_dataset_sums = MNIST_w_imagesums(train_dataset, aug_ratio=0.1)\n",
    "\n",
    "# dataloader1 = torch.utils.data.DataLoader(\n",
    "#     train_dataset_sums, \n",
    "#     batch_size=1, \n",
    "#     shuffle=False)\n",
    "\n",
    "# for i, val in (enumerate(dataloader1)):\n",
    "#     if (i > 54000 and i<54003) or (i > 0 and i<3) :\n",
    "#         print(i, val[1])\n",
    "#         plt.imshow(val[0][0][0].numpy())\n",
    "#         plt.show()\n"
   ]
  },
  {
   "cell_type": "code",
   "execution_count": 8,
   "id": "b8209603-91f0-4901-a14b-bddbe597d487",
   "metadata": {},
   "outputs": [
    {
     "data": {
      "image/png": "[encoded data removed]",
      "text/plain": [
       "<Figure size 640x480 with 6 Axes>"
      ]
     },
     "metadata": {},
     "output_type": "display_data"
    }
   ],
   "source": [
    "# Visualisation\n",
    "show_images(*split_lists([(train_dataset[index][0], f\"label: {train_dataset[index][1]}\") for index in range(6)]))"
   ]
  },
  {
   "cell_type": "code",
   "execution_count": 9,
   "id": "5f53fd8f-b2ed-42d4-9758-af7ed2de56dc",
   "metadata": {},
   "outputs": [],
   "source": [
    "train_dataset_autoencoder = AutoencoderDataset(train_dataset_sums)\n",
    "test_dataset_autoencoder = AutoencoderDataset(test_dataset)\n",
    "\n",
    "N_WORKERS = 2\n",
    "\n",
    "train_dataloader_autoencoder = torch.utils.data.DataLoader(\n",
    "    train_dataset_autoencoder, \n",
    "    batch_size=autoencoder_batch_size_train, \n",
    "    shuffle=True,\n",
    "    pin_memory=True,\n",
    "    num_workers=N_WORKERS,\n",
    "    # reproducibility for .py\n",
    "    # worker_init_fn=seed_worker,\n",
    "    # generator=g,\n",
    ")\n",
    "test_dataloader_autoencoder  = torch.utils.data.DataLoader(\n",
    "    test_dataset_autoencoder, \n",
    "    batch_size=autoencoder_batch_size_test, \n",
    "    shuffle=False,\n",
    "    pin_memory=True,\n",
    "    num_workers=N_WORKERS,\n",
    ")\n",
    "# for statistics on train data\n",
    "train_dataloader_autoencoder_nonshuffle = torch.utils.data.DataLoader(\n",
    "    train_dataset_autoencoder, \n",
    "    batch_size=autoencoder_batch_size_train, \n",
    "    shuffle=False,\n",
    "    pin_memory=True,\n",
    "    num_workers=N_WORKERS,\n",
    "    # reproducibility for .py\n",
    "    # worker_init_fn=seed_worker,\n",
    "    # generator=g,\n",
    ")"
   ]
  },
  {
   "cell_type": "code",
   "execution_count": 10,
   "id": "60cdf8ac",
   "metadata": {},
   "outputs": [
    {
     "name": "stdout",
     "output_type": "stream",
     "text": [
      "First 50 indices after shuffling\n"
     ]
    },
    {
     "data": {
      "text/plain": [
       "array([36291, 54116, 24758, 21502,  5779, 50752, 33067, 54400, 45005,\n",
       "        1522, 46327, 47504, 23765, 44398, 59047, 23252, 31344, 39629,\n",
       "       18386, 46940, 18103, 23663, 19907, 46911, 26858, 36678, 52121,\n",
       "       23456, 54805, 21321, 47412,  1278, 33671, 59947, 55507, 16636,\n",
       "       24018, 18025, 38443, 46627,  7871, 54364,  4068, 47897, 14598,\n",
       "       53213, 45727,  4933, 43701, 51755])"
      ]
     },
     "execution_count": 10,
     "metadata": {},
     "output_type": "execute_result"
    }
   ],
   "source": [
    "print(\"First 50 indices after shuffling\")\n",
    "train_dataset_sums.idxs_aug[:50]"
   ]
  },
  {
   "cell_type": "raw",
   "id": "fdb756b4",
   "metadata": {},
   "source": [
    "array([36291, 54116, 24758, 21502,  5779, 50752, 33067, 54400, 45005,\n",
    "        1522, 46327, 47504, 23765, 44398, 59047, 23252, 31344, 39629,\n",
    "       18386, 46940, 18103, 23663, 19907, 46911, 26858, 36678, 52121,\n",
    "       23456, 54805, 21321, 47412,  1278, 33671, 59947, 55507, 16636,\n",
    "       24018, 18025, 38443, 46627,  7871, 54364,  4068, 47897, 14598,\n",
    "       53213, 45727,  4933, 43701, 51755])"
   ]
  },
  {
   "cell_type": "code",
   "execution_count": 11,
   "id": "4e890b24",
   "metadata": {},
   "outputs": [],
   "source": [
    "def autoencoder_callback(autoencoder, autoencoder_metrics=None):\n",
    "    clear_output(True)\n",
    "    \n",
    "    was_in_training = autoencoder.training\n",
    "    autoencoder.eval()\n",
    "    \n",
    "    # Display some images..\n",
    "    with torch.no_grad():\n",
    "        samples = [sample[0] for sample in random.choices(test_dataset_autoencoder, k=3)]\n",
    "        samples += [autoencoder(sample[None,:].to(device)).cpu().detach()[0] for sample in samples]\n",
    "        show_images(samples)\n",
    "        \n",
    "    # Display loss/metrics plots.\n",
    "    if not (autoencoder_metrics is None):\n",
    "        plt.figure(figsize=(12,4))\n",
    "        for index, (name, history) in enumerate(sorted(autoencoder_metrics.items())):\n",
    "            plt.subplot(1, len(autoencoder_metrics), index + 1)\n",
    "            plt.title(name)\n",
    "            plt.plot(range(1, len(history) + 1), history)\n",
    "            plt.grid()\n",
    "\n",
    "        plt.show();\n",
    "        \n",
    "    autoencoder.train(was_in_training)"
   ]
  },
  {
   "cell_type": "code",
   "execution_count": 12,
   "id": "55a5c4d4-22a3-4fc5-8704-eafe1ae62f08",
   "metadata": {},
   "outputs": [],
   "source": [
    "X_autoencoder_path = models_path / \"autoencoders/\"\n",
    "encoder_path = X_autoencoder_path / f\"X_encoder_{X_latent_dim}_{X_autoencoder_n_epochs}_wimgsums.pt\"\n",
    "decoder_path = X_autoencoder_path / f\"X_decoder_{X_latent_dim}_{X_autoencoder_n_epochs}_wimgsums.pt\""
   ]
  },
  {
   "cell_type": "code",
   "execution_count": 13,
   "id": "3c431489-4b38-4c78-8ff1-13dd1dea372f",
   "metadata": {
    "tags": []
   },
   "outputs": [
    {
     "data": {
      "image/png": "[encoded data removed]",
      "text/plain": [
       "<Figure size 640x480 with 6 Axes>"
      ]
     },
     "metadata": {},
     "output_type": "display_data"
    },
    {
     "data": {
      "image/png": "[encoded data removed]",
      "text/plain": [
       "<Figure size 1200x400 with 2 Axes>"
      ]
     },
     "metadata": {},
     "output_type": "display_data"
    },
    {
     "name": "stderr",
     "output_type": "stream",
     "text": [
      "100%|██████████████████████████████████████████████████████████████████████████████| 300/300 [1:50:16<00:00, 22.06s/it]\n"
     ]
    }
   ],
   "source": [
    "load_X_autoencoder = False\n",
    "\n",
    "if load_X_autoencoder:\n",
    "    try:\n",
    "        X_autoencoder.encoder.load_state_dict(torch.load(encoder_path))\n",
    "        X_autoencoder.decoder.load_state_dict(torch.load(decoder_path))\n",
    "        autoencoder_callback(X_autoencoder)\n",
    "    except:\n",
    "        print(\"The autoencoder is not found or cannot be loaded.\")\n",
    "        load_X_autoencoder = False\n",
    "\n",
    "if not load_X_autoencoder:\n",
    "    results = train_autoencoder(\n",
    "        X_autoencoder, \n",
    "        train_dataloader_autoencoder, \n",
    "        test_dataloader_autoencoder, \n",
    "        autoencoder_loss=autoencoder_loss,\n",
    "        autoencoder_opt=autoencoder_opt, \n",
    "        n_epochs=X_autoencoder_n_epochs, \n",
    "        callback=autoencoder_callback,\n",
    "        device=device,\n",
    "        # samplewise stats\n",
    "        train_dataloader_nonshuffle=train_dataloader_autoencoder_nonshuffle,\n",
    "        loss_samplewise=loss_samplewise,\n",
    "    )\n",
    "    \n",
    "    os.makedirs(X_autoencoder_path, exist_ok=True)\n",
    "    torch.save(X_autoencoder.encoder.state_dict(), encoder_path)\n",
    "    torch.save(X_autoencoder.decoder.state_dict(), decoder_path)"
   ]
  },
  {
   "cell_type": "code",
   "execution_count": 14,
   "id": "a5ad4eb2",
   "metadata": {},
   "outputs": [],
   "source": [
    "bn_logits = np.array(results['bn_logits'])"
   ]
  },
  {
   "cell_type": "code",
   "execution_count": 15,
   "id": "6a90b7fd",
   "metadata": {},
   "outputs": [
    {
     "data": {
      "text/plain": [
       "652.313232421875"
      ]
     },
     "execution_count": 15,
     "metadata": {},
     "output_type": "execute_result"
    }
   ],
   "source": [
    "bn_logits.nbytes / 1024 / 1024 # Mbytes"
   ]
  },
  {
   "cell_type": "code",
   "execution_count": 16,
   "id": "e99728d1",
   "metadata": {},
   "outputs": [
    {
     "data": {
      "text/plain": [
       "(300, 57000, 10)"
      ]
     },
     "execution_count": 16,
     "metadata": {},
     "output_type": "execute_result"
    }
   ],
   "source": [
    "bn_logits.shape"
   ]
  },
  {
   "cell_type": "code",
   "execution_count": 17,
   "id": "a2286b8c",
   "metadata": {},
   "outputs": [],
   "source": [
    "os.makedirs(results_path, exist_ok=True)\n",
    "indices_shuffle_logits_path = results_path / f\"img_indices_{X_latent_dim}_{X_autoencoder_n_epochs}_wimgsums\"\n",
    "\n",
    "np.save(\n",
    "    indices_shuffle_logits_path,\n",
    "    train_dataset_sums.idxs_aug_full,\n",
    ")"
   ]
  },
  {
   "cell_type": "code",
   "execution_count": 18,
   "id": "3399d092",
   "metadata": {},
   "outputs": [],
   "source": [
    "os.makedirs(results_path, exist_ok=True)\n",
    "bn_logits_path = results_path / f\"bn_logits_{X_latent_dim}_{X_autoencoder_n_epochs}_wimgsums\"\n",
    "\n",
    "np.save(\n",
    "    bn_logits_path,\n",
    "    bn_logits,\n",
    ")"
   ]
  },
  {
   "cell_type": "code",
   "execution_count": 19,
   "id": "0dcc2ee9",
   "metadata": {},
   "outputs": [],
   "source": [
    "os.makedirs(results_path, exist_ok=True)\n",
    "\n",
    "samplewise_metrics_save = results['samplewise_metrics']\n",
    "samplewise_metrics_path = results_path / f\"samplewise_metrics_{X_latent_dim}_{X_autoencoder_n_epochs}_wimgsums\"\n",
    "\n",
    "np.save(\n",
    "    samplewise_metrics_path,\n",
    "    samplewise_metrics_save,\n",
    ")"
   ]
  },
  {
   "cell_type": "code",
   "execution_count": 20,
   "id": "69fac603-5414-4ec6-bc79-89c388939e33",
   "metadata": {},
   "outputs": [],
   "source": [
    "# X_compressed = get_outputs(X_autoencoder.encoder, test_dataloader_autoencoder, device).numpy()"
   ]
  }
 ],
 "metadata": {
  "kernelspec": {
   "display_name": "ker_infoplane_v2",
   "language": "python",
   "name": "ker_infoplane_v2"
  },
  "language_info": {
   "codemirror_mode": {
    "name": "ipython",
    "version": 3
   },
   "file_extension": ".py",
   "mimetype": "text/x-python",
   "name": "python",
   "nbconvert_exporter": "python",
   "pygments_lexer": "ipython3",
   "version": "3.10.6"
  }
 },
 "nbformat": 4,
 "nbformat_minor": 5
}
