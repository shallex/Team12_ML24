{
 "cells": [
  {
   "cell_type": "code",
   "execution_count": 3,
   "metadata": {},
   "outputs": [],
   "source": [
    "import pandas as pd\n",
    "import matplotlib.pyplot as plt\n",
    "import numpy as np"
   ]
  },
  {
   "cell_type": "markdown",
   "metadata": {},
   "source": [
    "# idx mapping"
   ]
  },
  {
   "cell_type": "code",
   "execution_count": 4,
   "metadata": {},
   "outputs": [],
   "source": [
    "from torch.utils.data import Dataset\n",
    "import torch\n",
    "import torchvision\n",
    "import torchvision.transforms as transforms\n",
    "import random\n",
    "from torchvision.datasets import MNIST"
   ]
  },
  {
   "cell_type": "code",
   "execution_count": 5,
   "metadata": {},
   "outputs": [],
   "source": [
    "class MNIST_w_imagesums(Dataset):\n",
    "    def __init__(self, dataset, aug_ratio=0.1) -> None:\n",
    "        self.dataset = dataset\n",
    "        self.dd_idxs_aug = {}\n",
    "\n",
    "        self.idxs_aug = (np.arange(len(self.dataset)))\n",
    "        np.random.shuffle(self.idxs_aug)\n",
    "        # copying for saving indices\n",
    "        self.idxs_aug_full = self.idxs_aug.copy()\n",
    "\n",
    "        len_aug = int(aug_ratio*len(self.idxs_aug))\n",
    "        # check even length of len_aug\n",
    "        if len_aug % 2 == 0:\n",
    "            pass\n",
    "        else:\n",
    "            len_aug -= 1\n",
    "\n",
    "        idxs_aug_only = self.idxs_aug[-len_aug:] # choose last indices for augs\n",
    "        for l,r in zip(idxs_aug_only[:len_aug//2], idxs_aug_only[len_aug//2:]):\n",
    "            self.dd_idxs_aug[l] = r\n",
    "            self.dd_idxs_aug[r] = l\n",
    "\n",
    "        self.idxs_aug = self.idxs_aug[:-len_aug//2]\n",
    "\n",
    "\n",
    "\n",
    "    def __getitem__(self, index: int):\n",
    "        \"\"\"\n",
    "        Args:\n",
    "            index (int): Index\n",
    "\n",
    "        Returns:\n",
    "            tuple: (image, target) where target is index of the target class.\n",
    "        \"\"\"\n",
    "        if self.idxs_aug[index] in self.dd_idxs_aug:\n",
    "            img_1, target_1 = self.dataset[self.idxs_aug[index]]\n",
    "            img_2, target_2 = self.dataset[self.dd_idxs_aug[self.idxs_aug[index]]]\n",
    "\n",
    "            img = img_1 + img_2\n",
    "            # img = np.maximum(img_1, img_2)\n",
    "\n",
    "            target = str(target_1)+'+'+str(target_2)\n",
    "\n",
    "            \n",
    "            # (0,), (1.58,) was chosen base on computed statistics - see\n",
    "            # see commented celll in \"ae-reconstruction-L1-imagesums-lossSamples.ipynb\" for code\n",
    "            img=torchvision.transforms.Normalize((0,), (1.58,))(img)\n",
    "        else:\n",
    "            img, target = self.dataset[self.idxs_aug[index]]\n",
    "\n",
    "        return img, target\n",
    "\n",
    "\n",
    "    def __len__(self) -> int:\n",
    "        return len(self.idxs_aug)"
   ]
  },
  {
   "cell_type": "code",
   "execution_count": 6,
   "metadata": {},
   "outputs": [],
   "source": [
    "# seeding\n",
    "SEED = 12\n",
    "torch.manual_seed(SEED)\n",
    "torch.cuda.manual_seed_all(SEED)\n",
    "random.seed(SEED)\n",
    "np.random.seed(SEED)"
   ]
  },
  {
   "cell_type": "code",
   "execution_count": 7,
   "metadata": {},
   "outputs": [],
   "source": [
    "train_dataset = MNIST(root=\"./files\", download=False)\n",
    "test_dataset = MNIST(root=\"./files\", download=False, train=False)"
   ]
  },
  {
   "cell_type": "code",
   "execution_count": 8,
   "metadata": {},
   "outputs": [],
   "source": [
    "aug_ratio = 0.1\n",
    "train_dataset_sums = MNIST_w_imagesums(train_dataset, aug_ratio=aug_ratio)"
   ]
  },
  {
   "cell_type": "code",
   "execution_count": 9,
   "metadata": {},
   "outputs": [
    {
     "name": "stdout",
     "output_type": "stream",
     "text": [
      "First 50 indices after shuffling\n"
     ]
    },
    {
     "data": {
      "text/plain": [
       "array([36291, 54116, 24758, 21502,  5779, 50752, 33067, 54400, 45005,\n",
       "        1522, 46327, 47504, 23765, 44398, 59047, 23252, 31344, 39629,\n",
       "       18386, 46940, 18103, 23663, 19907, 46911, 26858, 36678, 52121,\n",
       "       23456, 54805, 21321, 47412,  1278, 33671, 59947, 55507, 16636,\n",
       "       24018, 18025, 38443, 46627,  7871, 54364,  4068, 47897, 14598,\n",
       "       53213, 45727,  4933, 43701, 51755])"
      ]
     },
     "execution_count": 9,
     "metadata": {},
     "output_type": "execute_result"
    }
   ],
   "source": [
    "print(\"First 50 indices after shuffling\")\n",
    "train_dataset_sums.idxs_aug[:50]"
   ]
  },
  {
   "cell_type": "code",
   "execution_count": 10,
   "metadata": {},
   "outputs": [
    {
     "data": {
      "text/plain": [
       "array([36291, 54116, 24758, 21502,  5779, 50752, 33067, 54400, 45005,\n",
       "        1522, 46327, 47504, 23765, 44398, 59047, 23252, 31344, 39629,\n",
       "       18386, 46940, 18103, 23663, 19907, 46911, 26858, 36678, 52121,\n",
       "       23456, 54805, 21321, 47412,  1278, 33671, 59947, 55507, 16636,\n",
       "       24018, 18025, 38443, 46627,  7871, 54364,  4068, 47897, 14598,\n",
       "       53213, 45727,  4933, 43701, 51755])"
      ]
     },
     "execution_count": 10,
     "metadata": {},
     "output_type": "execute_result"
    }
   ],
   "source": [
    "orig_idx_2_shuffle = train_dataset_sums.idxs_aug.copy()\n",
    "orig_idx_2_shuffle[:50]"
   ]
  },
  {
   "cell_type": "code",
   "execution_count": 92,
   "metadata": {},
   "outputs": [],
   "source": [
    "new_2_orig = {}\n",
    "\n",
    "for i, new_idx in enumerate(orig_idx_2_shuffle):\n",
    "    new_2_orig[new_idx] = i"
   ]
  },
  {
   "cell_type": "code",
   "execution_count": 94,
   "metadata": {},
   "outputs": [
    {
     "data": {
      "text/plain": [
       "0"
      ]
     },
     "execution_count": 94,
     "metadata": {},
     "output_type": "execute_result"
    }
   ],
   "source": [
    "new_2_orig[36291]"
   ]
  },
  {
   "cell_type": "markdown",
   "metadata": {},
   "source": [
    "# DF"
   ]
  },
  {
   "cell_type": "code",
   "execution_count": 11,
   "metadata": {},
   "outputs": [
    {
     "data": {
      "text/html": [
       "<div>\n",
       "<style scoped>\n",
       "    .dataframe tbody tr th:only-of-type {\n",
       "        vertical-align: middle;\n",
       "    }\n",
       "\n",
       "    .dataframe tbody tr th {\n",
       "        vertical-align: top;\n",
       "    }\n",
       "\n",
       "    .dataframe thead th {\n",
       "        text-align: right;\n",
       "    }\n",
       "</style>\n",
       "<table border=\"1\" class=\"dataframe\">\n",
       "  <thead>\n",
       "    <tr style=\"text-align: right;\">\n",
       "      <th></th>\n",
       "      <th>24843</th>\n",
       "      <th>53435</th>\n",
       "      <th>13964</th>\n",
       "      <th>50719</th>\n",
       "      <th>33492</th>\n",
       "      <th>13181</th>\n",
       "      <th>38933</th>\n",
       "      <th>23356</th>\n",
       "      <th>49625</th>\n",
       "      <th>10862</th>\n",
       "      <th>...</th>\n",
       "      <th>24725</th>\n",
       "      <th>30341</th>\n",
       "      <th>33510</th>\n",
       "      <th>38754</th>\n",
       "      <th>24618</th>\n",
       "      <th>11140</th>\n",
       "      <th>21274</th>\n",
       "      <th>25666</th>\n",
       "      <th>21217</th>\n",
       "      <th>35637</th>\n",
       "    </tr>\n",
       "  </thead>\n",
       "  <tbody>\n",
       "    <tr>\n",
       "      <th>0</th>\n",
       "      <td>0.468910</td>\n",
       "      <td>0.314389</td>\n",
       "      <td>0.679507</td>\n",
       "      <td>0.390326</td>\n",
       "      <td>0.338268</td>\n",
       "      <td>0.471616</td>\n",
       "      <td>0.304559</td>\n",
       "      <td>0.480588</td>\n",
       "      <td>0.525710</td>\n",
       "      <td>0.189263</td>\n",
       "      <td>...</td>\n",
       "      <td>0.369353</td>\n",
       "      <td>0.431916</td>\n",
       "      <td>0.217001</td>\n",
       "      <td>0.300074</td>\n",
       "      <td>0.385873</td>\n",
       "      <td>0.393947</td>\n",
       "      <td>0.389105</td>\n",
       "      <td>0.224619</td>\n",
       "      <td>0.478792</td>\n",
       "      <td>0.527674</td>\n",
       "    </tr>\n",
       "    <tr>\n",
       "      <th>1</th>\n",
       "      <td>0.468573</td>\n",
       "      <td>0.309739</td>\n",
       "      <td>0.674145</td>\n",
       "      <td>0.390368</td>\n",
       "      <td>0.337626</td>\n",
       "      <td>0.468843</td>\n",
       "      <td>0.303328</td>\n",
       "      <td>0.471981</td>\n",
       "      <td>0.522751</td>\n",
       "      <td>0.187346</td>\n",
       "      <td>...</td>\n",
       "      <td>0.365777</td>\n",
       "      <td>0.429119</td>\n",
       "      <td>0.213041</td>\n",
       "      <td>0.297230</td>\n",
       "      <td>0.382477</td>\n",
       "      <td>0.388163</td>\n",
       "      <td>0.385842</td>\n",
       "      <td>0.219864</td>\n",
       "      <td>0.472753</td>\n",
       "      <td>0.522968</td>\n",
       "    </tr>\n",
       "    <tr>\n",
       "      <th>2</th>\n",
       "      <td>0.549965</td>\n",
       "      <td>0.346954</td>\n",
       "      <td>0.618107</td>\n",
       "      <td>0.452697</td>\n",
       "      <td>0.398946</td>\n",
       "      <td>0.439463</td>\n",
       "      <td>0.291529</td>\n",
       "      <td>0.413766</td>\n",
       "      <td>0.518786</td>\n",
       "      <td>0.239629</td>\n",
       "      <td>...</td>\n",
       "      <td>0.351449</td>\n",
       "      <td>0.466548</td>\n",
       "      <td>0.205113</td>\n",
       "      <td>0.295832</td>\n",
       "      <td>0.402226</td>\n",
       "      <td>0.407447</td>\n",
       "      <td>0.412098</td>\n",
       "      <td>0.206828</td>\n",
       "      <td>0.446676</td>\n",
       "      <td>0.552068</td>\n",
       "    </tr>\n",
       "    <tr>\n",
       "      <th>3</th>\n",
       "      <td>0.544273</td>\n",
       "      <td>0.338506</td>\n",
       "      <td>0.615887</td>\n",
       "      <td>0.464785</td>\n",
       "      <td>0.410209</td>\n",
       "      <td>0.445344</td>\n",
       "      <td>0.292769</td>\n",
       "      <td>0.436947</td>\n",
       "      <td>0.510015</td>\n",
       "      <td>0.243966</td>\n",
       "      <td>...</td>\n",
       "      <td>0.354137</td>\n",
       "      <td>0.466096</td>\n",
       "      <td>0.225169</td>\n",
       "      <td>0.303904</td>\n",
       "      <td>0.395551</td>\n",
       "      <td>0.396667</td>\n",
       "      <td>0.413574</td>\n",
       "      <td>0.233458</td>\n",
       "      <td>0.468918</td>\n",
       "      <td>0.552452</td>\n",
       "    </tr>\n",
       "    <tr>\n",
       "      <th>4</th>\n",
       "      <td>0.474659</td>\n",
       "      <td>0.311474</td>\n",
       "      <td>0.490262</td>\n",
       "      <td>0.390027</td>\n",
       "      <td>0.337008</td>\n",
       "      <td>0.433196</td>\n",
       "      <td>0.283102</td>\n",
       "      <td>0.344372</td>\n",
       "      <td>0.499811</td>\n",
       "      <td>0.182395</td>\n",
       "      <td>...</td>\n",
       "      <td>0.340648</td>\n",
       "      <td>0.424679</td>\n",
       "      <td>0.196910</td>\n",
       "      <td>0.279139</td>\n",
       "      <td>0.376688</td>\n",
       "      <td>0.384738</td>\n",
       "      <td>0.392043</td>\n",
       "      <td>0.212800</td>\n",
       "      <td>0.465535</td>\n",
       "      <td>0.526672</td>\n",
       "    </tr>\n",
       "    <tr>\n",
       "      <th>...</th>\n",
       "      <td>...</td>\n",
       "      <td>...</td>\n",
       "      <td>...</td>\n",
       "      <td>...</td>\n",
       "      <td>...</td>\n",
       "      <td>...</td>\n",
       "      <td>...</td>\n",
       "      <td>...</td>\n",
       "      <td>...</td>\n",
       "      <td>...</td>\n",
       "      <td>...</td>\n",
       "      <td>...</td>\n",
       "      <td>...</td>\n",
       "      <td>...</td>\n",
       "      <td>...</td>\n",
       "      <td>...</td>\n",
       "      <td>...</td>\n",
       "      <td>...</td>\n",
       "      <td>...</td>\n",
       "      <td>...</td>\n",
       "      <td>...</td>\n",
       "    </tr>\n",
       "    <tr>\n",
       "      <th>95</th>\n",
       "      <td>0.214168</td>\n",
       "      <td>0.172422</td>\n",
       "      <td>0.164487</td>\n",
       "      <td>0.142619</td>\n",
       "      <td>0.104871</td>\n",
       "      <td>0.198829</td>\n",
       "      <td>0.155599</td>\n",
       "      <td>0.103788</td>\n",
       "      <td>0.162855</td>\n",
       "      <td>0.058175</td>\n",
       "      <td>...</td>\n",
       "      <td>0.250703</td>\n",
       "      <td>0.173732</td>\n",
       "      <td>0.046587</td>\n",
       "      <td>0.121794</td>\n",
       "      <td>0.199686</td>\n",
       "      <td>0.133811</td>\n",
       "      <td>0.180154</td>\n",
       "      <td>0.060726</td>\n",
       "      <td>0.200265</td>\n",
       "      <td>0.132902</td>\n",
       "    </tr>\n",
       "    <tr>\n",
       "      <th>96</th>\n",
       "      <td>0.247171</td>\n",
       "      <td>0.161712</td>\n",
       "      <td>0.169760</td>\n",
       "      <td>0.153966</td>\n",
       "      <td>0.105468</td>\n",
       "      <td>0.208779</td>\n",
       "      <td>0.123181</td>\n",
       "      <td>0.112302</td>\n",
       "      <td>0.165125</td>\n",
       "      <td>0.067914</td>\n",
       "      <td>...</td>\n",
       "      <td>0.249399</td>\n",
       "      <td>0.186592</td>\n",
       "      <td>0.048216</td>\n",
       "      <td>0.129949</td>\n",
       "      <td>0.183717</td>\n",
       "      <td>0.140722</td>\n",
       "      <td>0.178591</td>\n",
       "      <td>0.050878</td>\n",
       "      <td>0.191581</td>\n",
       "      <td>0.157529</td>\n",
       "    </tr>\n",
       "    <tr>\n",
       "      <th>97</th>\n",
       "      <td>0.214878</td>\n",
       "      <td>0.161206</td>\n",
       "      <td>0.181695</td>\n",
       "      <td>0.140384</td>\n",
       "      <td>0.099976</td>\n",
       "      <td>0.204543</td>\n",
       "      <td>0.134146</td>\n",
       "      <td>0.103097</td>\n",
       "      <td>0.162409</td>\n",
       "      <td>0.060642</td>\n",
       "      <td>...</td>\n",
       "      <td>0.239440</td>\n",
       "      <td>0.214984</td>\n",
       "      <td>0.049033</td>\n",
       "      <td>0.128325</td>\n",
       "      <td>0.199037</td>\n",
       "      <td>0.158259</td>\n",
       "      <td>0.175566</td>\n",
       "      <td>0.062737</td>\n",
       "      <td>0.191659</td>\n",
       "      <td>0.134423</td>\n",
       "    </tr>\n",
       "    <tr>\n",
       "      <th>98</th>\n",
       "      <td>0.277550</td>\n",
       "      <td>0.173270</td>\n",
       "      <td>0.169018</td>\n",
       "      <td>0.148103</td>\n",
       "      <td>0.094409</td>\n",
       "      <td>0.209739</td>\n",
       "      <td>0.131242</td>\n",
       "      <td>0.133302</td>\n",
       "      <td>0.169357</td>\n",
       "      <td>0.062990</td>\n",
       "      <td>...</td>\n",
       "      <td>0.248454</td>\n",
       "      <td>0.183486</td>\n",
       "      <td>0.052145</td>\n",
       "      <td>0.141241</td>\n",
       "      <td>0.207904</td>\n",
       "      <td>0.154577</td>\n",
       "      <td>0.174875</td>\n",
       "      <td>0.064059</td>\n",
       "      <td>0.184042</td>\n",
       "      <td>0.132304</td>\n",
       "    </tr>\n",
       "    <tr>\n",
       "      <th>99</th>\n",
       "      <td>0.285174</td>\n",
       "      <td>0.171090</td>\n",
       "      <td>0.178921</td>\n",
       "      <td>0.144415</td>\n",
       "      <td>0.096566</td>\n",
       "      <td>0.229167</td>\n",
       "      <td>0.148569</td>\n",
       "      <td>0.101444</td>\n",
       "      <td>0.166554</td>\n",
       "      <td>0.060596</td>\n",
       "      <td>...</td>\n",
       "      <td>0.247063</td>\n",
       "      <td>0.194999</td>\n",
       "      <td>0.052903</td>\n",
       "      <td>0.123802</td>\n",
       "      <td>0.196406</td>\n",
       "      <td>0.157510</td>\n",
       "      <td>0.161539</td>\n",
       "      <td>0.060351</td>\n",
       "      <td>0.192988</td>\n",
       "      <td>0.139709</td>\n",
       "    </tr>\n",
       "  </tbody>\n",
       "</table>\n",
       "<p>100 rows × 57000 columns</p>\n",
       "</div>"
      ],
      "text/plain": [
       "       24843     53435     13964     50719     33492     13181     38933  \\\n",
       "0   0.468910  0.314389  0.679507  0.390326  0.338268  0.471616  0.304559   \n",
       "1   0.468573  0.309739  0.674145  0.390368  0.337626  0.468843  0.303328   \n",
       "2   0.549965  0.346954  0.618107  0.452697  0.398946  0.439463  0.291529   \n",
       "3   0.544273  0.338506  0.615887  0.464785  0.410209  0.445344  0.292769   \n",
       "4   0.474659  0.311474  0.490262  0.390027  0.337008  0.433196  0.283102   \n",
       "..       ...       ...       ...       ...       ...       ...       ...   \n",
       "95  0.214168  0.172422  0.164487  0.142619  0.104871  0.198829  0.155599   \n",
       "96  0.247171  0.161712  0.169760  0.153966  0.105468  0.208779  0.123181   \n",
       "97  0.214878  0.161206  0.181695  0.140384  0.099976  0.204543  0.134146   \n",
       "98  0.277550  0.173270  0.169018  0.148103  0.094409  0.209739  0.131242   \n",
       "99  0.285174  0.171090  0.178921  0.144415  0.096566  0.229167  0.148569   \n",
       "\n",
       "       23356     49625     10862  ...     24725     30341     33510     38754  \\\n",
       "0   0.480588  0.525710  0.189263  ...  0.369353  0.431916  0.217001  0.300074   \n",
       "1   0.471981  0.522751  0.187346  ...  0.365777  0.429119  0.213041  0.297230   \n",
       "2   0.413766  0.518786  0.239629  ...  0.351449  0.466548  0.205113  0.295832   \n",
       "3   0.436947  0.510015  0.243966  ...  0.354137  0.466096  0.225169  0.303904   \n",
       "4   0.344372  0.499811  0.182395  ...  0.340648  0.424679  0.196910  0.279139   \n",
       "..       ...       ...       ...  ...       ...       ...       ...       ...   \n",
       "95  0.103788  0.162855  0.058175  ...  0.250703  0.173732  0.046587  0.121794   \n",
       "96  0.112302  0.165125  0.067914  ...  0.249399  0.186592  0.048216  0.129949   \n",
       "97  0.103097  0.162409  0.060642  ...  0.239440  0.214984  0.049033  0.128325   \n",
       "98  0.133302  0.169357  0.062990  ...  0.248454  0.183486  0.052145  0.141241   \n",
       "99  0.101444  0.166554  0.060596  ...  0.247063  0.194999  0.052903  0.123802   \n",
       "\n",
       "       24618     11140     21274     25666     21217     35637  \n",
       "0   0.385873  0.393947  0.389105  0.224619  0.478792  0.527674  \n",
       "1   0.382477  0.388163  0.385842  0.219864  0.472753  0.522968  \n",
       "2   0.402226  0.407447  0.412098  0.206828  0.446676  0.552068  \n",
       "3   0.395551  0.396667  0.413574  0.233458  0.468918  0.552452  \n",
       "4   0.376688  0.384738  0.392043  0.212800  0.465535  0.526672  \n",
       "..       ...       ...       ...       ...       ...       ...  \n",
       "95  0.199686  0.133811  0.180154  0.060726  0.200265  0.132902  \n",
       "96  0.183717  0.140722  0.178591  0.050878  0.191581  0.157529  \n",
       "97  0.199037  0.158259  0.175566  0.062737  0.191659  0.134423  \n",
       "98  0.207904  0.154577  0.174875  0.064059  0.184042  0.132304  \n",
       "99  0.196406  0.157510  0.161539  0.060351  0.192988  0.139709  \n",
       "\n",
       "[100 rows x 57000 columns]"
      ]
     },
     "execution_count": 11,
     "metadata": {},
     "output_type": "execute_result"
    }
   ],
   "source": [
    "df_my = pd.read_csv(\"samples_losses_57k_100epochs_mix_like_maximum.csv\")\n",
    "df_my"
   ]
  },
  {
   "cell_type": "code",
   "execution_count": 21,
   "metadata": {},
   "outputs": [
    {
     "data": {
      "text/plain": [
       "0.2775495052337646"
      ]
     },
     "execution_count": 21,
     "metadata": {},
     "output_type": "execute_result"
    }
   ],
   "source": [
    "df_my.loc[98, '24843']"
   ]
  },
  {
   "cell_type": "code",
   "execution_count": 12,
   "metadata": {},
   "outputs": [],
   "source": [
    "samples_losses = {}\n",
    "global_indexes = list(range(57000))\n",
    "\n",
    "\n",
    "for g_idx in global_indexes:\n",
    "    for n_epoch in range(100):\n",
    "        new_idx = orig_idx_2_shuffle[g_idx]\n",
    "        if samples_losses.get(new_idx) is None:\n",
    "            samples_losses[new_idx] = [df_my.loc[n_epoch, str(g_idx)]]\n",
    "        else:\n",
    "            samples_losses[new_idx].append(df_my.loc[n_epoch, str(g_idx)])\n"
   ]
  },
  {
   "cell_type": "code",
   "execution_count": 105,
   "metadata": {},
   "outputs": [
    {
     "data": {
      "text/plain": [
       "36291"
      ]
     },
     "execution_count": 105,
     "metadata": {},
     "output_type": "execute_result"
    }
   ],
   "source": [
    "orig_idx_2_shuffle[0]"
   ]
  },
  {
   "cell_type": "code",
   "execution_count": 52,
   "metadata": {},
   "outputs": [
    {
     "name": "stderr",
     "output_type": "stream",
     "text": [
      "/var/folders/28/lrt484k161n58rg1yyfz_xw40000gq/T/ipykernel_48812/3164016275.py:23: UserWarning: Attempt to set non-positive ylim on a log-scaled axis will be ignored.\n",
      "  plt.ylim(0,200)\n"
     ]
    },
    {
     "data": {
      "image/png": "[encoded data removed]",
      "text/plain": [
       "<Figure size 640x480 with 1 Axes>"
      ]
     },
     "metadata": {},
     "output_type": "display_data"
    }
   ],
   "source": [
    "\n",
    "idx_2_sum_loss = {idx: 0 for idx in range(60000)}\n",
    "\n",
    "start_from = 0\n",
    "end = 100\n",
    "\n",
    "for g_idx in range(57000):\n",
    "  for epoch in range(start_from, end):\n",
    "\n",
    "    new_idx = orig_idx_2_shuffle[g_idx]\n",
    "    idx_2_sum_loss[new_idx] += samples_losses[new_idx][epoch]\n",
    "\n",
    "\n",
    "sum_losses = idx_2_sum_loss.values()\n",
    "plt.hist(sum_losses, bins=100, label=\"all\", log=True, alpha=0.3)\n",
    "\n",
    "mixed_samples_losses = []\n",
    "for idx in range(54000, 57000):\n",
    "  new_idx = orig_idx_2_shuffle[idx]\n",
    "  mixed_samples_losses.append(idx_2_sum_loss[new_idx])\n",
    "\n",
    "plt.hist(mixed_samples_losses, bins=100, label=\"mixed\", log=True, alpha=0.3)\n",
    "plt.title(f\"Epoch {epoch + 1}\")\n",
    "plt.ylim(0, 200)\n",
    "plt.xlim(9, 70)\n",
    "plt.legend()\n",
    "plt.show()"
   ]
  },
  {
   "cell_type": "code",
   "execution_count": 16,
   "metadata": {},
   "outputs": [],
   "source": [
    "idx_2_sum_loss = {idx: 0 for idx in range(60000)}\n",
    "\n",
    "start_from = 10\n",
    "end = 100\n",
    "\n",
    "for g_idx in global_indexes:\n",
    "  new_idx = orig_idx_2_shuffle[g_idx]\n",
    "  for epoch in range(start_from, end):\n",
    "    idx_2_sum_loss[new_idx] += samples_losses[new_idx][epoch]"
   ]
  },
  {
   "cell_type": "code",
   "execution_count": null,
   "metadata": {},
   "outputs": [],
   "source": []
  },
  {
   "cell_type": "code",
   "execution_count": 109,
   "metadata": {},
   "outputs": [
    {
     "data": {
      "text/html": [
       "<div>\n",
       "<style scoped>\n",
       "    .dataframe tbody tr th:only-of-type {\n",
       "        vertical-align: middle;\n",
       "    }\n",
       "\n",
       "    .dataframe tbody tr th {\n",
       "        vertical-align: top;\n",
       "    }\n",
       "\n",
       "    .dataframe thead th {\n",
       "        text-align: right;\n",
       "    }\n",
       "</style>\n",
       "<table border=\"1\" class=\"dataframe\">\n",
       "  <thead>\n",
       "    <tr style=\"text-align: right;\">\n",
       "      <th></th>\n",
       "      <th>index</th>\n",
       "      <th>sample_idx</th>\n",
       "      <th>scores_learning_time</th>\n",
       "      <th>preds_learning_time</th>\n",
       "      <th>scores_forgetting_time</th>\n",
       "      <th>preds_forgetting_time</th>\n",
       "      <th>original_sample_idx</th>\n",
       "      <th>is_mislabeled</th>\n",
       "      <th>prediction</th>\n",
       "    </tr>\n",
       "  </thead>\n",
       "  <tbody>\n",
       "    <tr>\n",
       "      <th>0</th>\n",
       "      <td>0</td>\n",
       "      <td>26028</td>\n",
       "      <td>59367</td>\n",
       "      <td>59367</td>\n",
       "      <td>3010000</td>\n",
       "      <td>-1</td>\n",
       "      <td>39689</td>\n",
       "      <td>False</td>\n",
       "      <td>typical</td>\n",
       "    </tr>\n",
       "    <tr>\n",
       "      <th>1</th>\n",
       "      <td>1</td>\n",
       "      <td>6792</td>\n",
       "      <td>34998</td>\n",
       "      <td>34998</td>\n",
       "      <td>3010000</td>\n",
       "      <td>-1</td>\n",
       "      <td>28623</td>\n",
       "      <td>False</td>\n",
       "      <td>typical</td>\n",
       "    </tr>\n",
       "    <tr>\n",
       "      <th>2</th>\n",
       "      <td>2</td>\n",
       "      <td>2966</td>\n",
       "      <td>32257</td>\n",
       "      <td>32257</td>\n",
       "      <td>3010000</td>\n",
       "      <td>-1</td>\n",
       "      <td>58165</td>\n",
       "      <td>False</td>\n",
       "      <td>typical</td>\n",
       "    </tr>\n",
       "    <tr>\n",
       "      <th>3</th>\n",
       "      <td>3</td>\n",
       "      <td>27994</td>\n",
       "      <td>36990</td>\n",
       "      <td>3</td>\n",
       "      <td>3010000</td>\n",
       "      <td>-1</td>\n",
       "      <td>15180</td>\n",
       "      <td>False</td>\n",
       "      <td>typical</td>\n",
       "    </tr>\n",
       "    <tr>\n",
       "      <th>4</th>\n",
       "      <td>4</td>\n",
       "      <td>13494</td>\n",
       "      <td>47702</td>\n",
       "      <td>47702</td>\n",
       "      <td>3010000</td>\n",
       "      <td>-1</td>\n",
       "      <td>29298</td>\n",
       "      <td>False</td>\n",
       "      <td>typical</td>\n",
       "    </tr>\n",
       "    <tr>\n",
       "      <th>...</th>\n",
       "      <td>...</td>\n",
       "      <td>...</td>\n",
       "      <td>...</td>\n",
       "      <td>...</td>\n",
       "      <td>...</td>\n",
       "      <td>...</td>\n",
       "      <td>...</td>\n",
       "      <td>...</td>\n",
       "      <td>...</td>\n",
       "    </tr>\n",
       "    <tr>\n",
       "      <th>59995</th>\n",
       "      <td>29995</td>\n",
       "      <td>21594</td>\n",
       "      <td>29995</td>\n",
       "      <td>-1</td>\n",
       "      <td>3010000</td>\n",
       "      <td>0</td>\n",
       "      <td>9761</td>\n",
       "      <td>False</td>\n",
       "      <td>typical</td>\n",
       "    </tr>\n",
       "    <tr>\n",
       "      <th>59996</th>\n",
       "      <td>29996</td>\n",
       "      <td>14195</td>\n",
       "      <td>29996</td>\n",
       "      <td>-1</td>\n",
       "      <td>3010000</td>\n",
       "      <td>0</td>\n",
       "      <td>41028</td>\n",
       "      <td>False</td>\n",
       "      <td>typical</td>\n",
       "    </tr>\n",
       "    <tr>\n",
       "      <th>59997</th>\n",
       "      <td>29997</td>\n",
       "      <td>14053</td>\n",
       "      <td>29997</td>\n",
       "      <td>-1</td>\n",
       "      <td>3010000</td>\n",
       "      <td>0</td>\n",
       "      <td>3277</td>\n",
       "      <td>False</td>\n",
       "      <td>typical</td>\n",
       "    </tr>\n",
       "    <tr>\n",
       "      <th>59998</th>\n",
       "      <td>29998</td>\n",
       "      <td>22408</td>\n",
       "      <td>29998</td>\n",
       "      <td>-1</td>\n",
       "      <td>3010000</td>\n",
       "      <td>0</td>\n",
       "      <td>51903</td>\n",
       "      <td>False</td>\n",
       "      <td>typical</td>\n",
       "    </tr>\n",
       "    <tr>\n",
       "      <th>59999</th>\n",
       "      <td>29999</td>\n",
       "      <td>3029</td>\n",
       "      <td>29999</td>\n",
       "      <td>-1</td>\n",
       "      <td>3010000</td>\n",
       "      <td>0</td>\n",
       "      <td>10465</td>\n",
       "      <td>False</td>\n",
       "      <td>typical</td>\n",
       "    </tr>\n",
       "  </tbody>\n",
       "</table>\n",
       "<p>60000 rows × 9 columns</p>\n",
       "</div>"
      ],
      "text/plain": [
       "       index  sample_idx  scores_learning_time  preds_learning_time  \\\n",
       "0          0       26028                 59367                59367   \n",
       "1          1        6792                 34998                34998   \n",
       "2          2        2966                 32257                32257   \n",
       "3          3       27994                 36990                    3   \n",
       "4          4       13494                 47702                47702   \n",
       "...      ...         ...                   ...                  ...   \n",
       "59995  29995       21594                 29995                   -1   \n",
       "59996  29996       14195                 29996                   -1   \n",
       "59997  29997       14053                 29997                   -1   \n",
       "59998  29998       22408                 29998                   -1   \n",
       "59999  29999        3029                 29999                   -1   \n",
       "\n",
       "       scores_forgetting_time  preds_forgetting_time  original_sample_idx  \\\n",
       "0                     3010000                     -1                39689   \n",
       "1                     3010000                     -1                28623   \n",
       "2                     3010000                     -1                58165   \n",
       "3                     3010000                     -1                15180   \n",
       "4                     3010000                     -1                29298   \n",
       "...                       ...                    ...                  ...   \n",
       "59995                 3010000                      0                 9761   \n",
       "59996                 3010000                      0                41028   \n",
       "59997                 3010000                      0                 3277   \n",
       "59998                 3010000                      0                51903   \n",
       "59999                 3010000                      0                10465   \n",
       "\n",
       "       is_mislabeled prediction  \n",
       "0              False    typical  \n",
       "1              False    typical  \n",
       "2              False    typical  \n",
       "3              False    typical  \n",
       "4              False    typical  \n",
       "...              ...        ...  \n",
       "59995          False    typical  \n",
       "59996          False    typical  \n",
       "59997          False    typical  \n",
       "59998          False    typical  \n",
       "59999          False    typical  \n",
       "\n",
       "[60000 rows x 9 columns]"
      ]
     },
     "execution_count": 109,
     "metadata": {},
     "output_type": "execute_result"
    }
   ],
   "source": [
    "df_ram = pd.read_csv(\"cnn225k_mnist_sup_both_splits.csv\")\n",
    "df_ram"
   ]
  },
  {
   "cell_type": "code",
   "execution_count": 60,
   "metadata": {},
   "outputs": [
    {
     "data": {
      "text/plain": [
       "typical       59452\n",
       "atypical        371\n",
       "mislabeled      129\n",
       "ambigious        48\n",
       "Name: prediction, dtype: int64"
      ]
     },
     "execution_count": 60,
     "metadata": {},
     "output_type": "execute_result"
    }
   ],
   "source": [
    "df_ram[\"prediction\"].value_counts()"
   ]
  },
  {
   "cell_type": "markdown",
   "metadata": {},
   "source": [
    "## atypical"
   ]
  },
  {
   "cell_type": "code",
   "execution_count": 118,
   "metadata": {},
   "outputs": [
    {
     "data": {
      "text/plain": [
       "371"
      ]
     },
     "execution_count": 118,
     "metadata": {},
     "output_type": "execute_result"
    }
   ],
   "source": [
    "atypical_samples_losses = []\n",
    "\n",
    "for i, atypical_row in df_ram[df_ram[\"prediction\"] == \"atypical\"].iterrows():\n",
    "    orig_idx = atypical_row[\"original_sample_idx\"]\n",
    "    \n",
    "    atypical_samples_losses.append(idx_2_sum_loss[orig_idx])\n",
    "\n",
    "len(atypical_samples_losses)"
   ]
  },
  {
   "cell_type": "code",
   "execution_count": 130,
   "metadata": {},
   "outputs": [
    {
     "data": {
      "image/png": "[encoded data removed]",
      "text/plain": [
       "<Figure size 640x480 with 1 Axes>"
      ]
     },
     "metadata": {},
     "output_type": "display_data"
    }
   ],
   "source": [
    "sum_losses = np.array(list(idx_2_sum_loss.values()))\n",
    "sum_losses = sum_losses[sum_losses > 0]\n",
    "plt.hist(sum_losses, bins=100, label=\"all\", log=True)\n",
    "\n",
    "atypical_samples_losses = np.array(atypical_samples_losses)\n",
    "atypical_samples_losses = atypical_samples_losses[atypical_samples_losses > 0]\n",
    "plt.hist(atypical_samples_losses, bins=100, label=\"atypical\", log=True)\n",
    "plt.legend()\n",
    "plt.show()"
   ]
  },
  {
   "cell_type": "code",
   "execution_count": null,
   "metadata": {},
   "outputs": [],
   "source": []
  },
  {
   "cell_type": "markdown",
   "metadata": {},
   "source": [
    "## mislabeled"
   ]
  },
  {
   "cell_type": "code",
   "execution_count": 120,
   "metadata": {},
   "outputs": [
    {
     "data": {
      "text/plain": [
       "129"
      ]
     },
     "execution_count": 120,
     "metadata": {},
     "output_type": "execute_result"
    }
   ],
   "source": [
    "mislabeled_samples_losses = []\n",
    "_type = \"mislabeled\"\n",
    "\n",
    "for i, atypical_row in df_ram[df_ram[\"prediction\"] == _type].iterrows():\n",
    "    orig_idx = atypical_row[\"original_sample_idx\"]\n",
    "    mislabeled_samples_losses.append(idx_2_sum_loss[orig_idx])\n",
    "\n",
    "len(mislabeled_samples_losses)"
   ]
  },
  {
   "cell_type": "code",
   "execution_count": 91,
   "metadata": {},
   "outputs": [
    {
     "name": "stdout",
     "output_type": "stream",
     "text": [
      "5\n"
     ]
    },
    {
     "data": {
      "image/png": "[encoded data removed]",
      "text/plain": [
       "<Figure size 640x480 with 1 Axes>"
      ]
     },
     "metadata": {},
     "output_type": "display_data"
    }
   ],
   "source": [
    "m_img, m_target = train_dataset[40144]\n",
    "\n",
    "print(m_target)\n",
    "plt.imshow(m_img, cmap='gray')\n",
    "plt.show()"
   ]
  },
  {
   "cell_type": "code",
   "execution_count": 131,
   "metadata": {},
   "outputs": [
    {
     "data": {
      "image/png": "[encoded data removed]",
      "text/plain": [
       "<Figure size 640x480 with 1 Axes>"
      ]
     },
     "metadata": {},
     "output_type": "display_data"
    }
   ],
   "source": [
    "plt.hist(sum_losses, bins=100, label=\"all\", log=True)\n",
    "mislabeled_samples_losses = np.array(mislabeled_samples_losses)\n",
    "mislabeled_samples_losses = mislabeled_samples_losses[mislabeled_samples_losses > 0]\n",
    "plt.hist(mislabeled_samples_losses, bins=100, label=_type, log=True)\n",
    "plt.legend()\n",
    "plt.show()"
   ]
  },
  {
   "cell_type": "markdown",
   "metadata": {},
   "source": [
    "## ambigious"
   ]
  },
  {
   "cell_type": "code",
   "execution_count": 122,
   "metadata": {},
   "outputs": [
    {
     "data": {
      "text/plain": [
       "48"
      ]
     },
     "execution_count": 122,
     "metadata": {},
     "output_type": "execute_result"
    }
   ],
   "source": [
    "\n",
    "ambigious_samples_losses = []\n",
    "_type = \"ambigious\"\n",
    "\n",
    "for i, atypical_row in df_ram[df_ram[\"prediction\"] == _type].iterrows():\n",
    "    orig_idx = atypical_row[\"original_sample_idx\"]\n",
    "    ambigious_samples_losses.append(idx_2_sum_loss[orig_idx])\n",
    "\n",
    "len(ambigious_samples_losses)"
   ]
  },
  {
   "cell_type": "code",
   "execution_count": 132,
   "metadata": {},
   "outputs": [
    {
     "data": {
      "image/png": "[encoded data removed]",
      "text/plain": [
       "<Figure size 640x480 with 1 Axes>"
      ]
     },
     "metadata": {},
     "output_type": "display_data"
    }
   ],
   "source": [
    "plt.hist(sum_losses, bins=100, label=\"all\", log=True)\n",
    "ambigious_samples_losses = np.array(ambigious_samples_losses)\n",
    "ambigious_samples_losses = ambigious_samples_losses[ambigious_samples_losses > 0]\n",
    "plt.hist(ambigious_samples_losses, bins=100, label=_type, log=True)\n",
    "plt.legend()\n",
    "plt.show()"
   ]
  },
  {
   "cell_type": "code",
   "execution_count": null,
   "metadata": {},
   "outputs": [],
   "source": []
  },
  {
   "cell_type": "markdown",
   "metadata": {},
   "source": [
    "# Metrics"
   ]
  },
  {
   "cell_type": "code",
   "execution_count": 13,
   "metadata": {},
   "outputs": [],
   "source": [
    "from sklearn.metrics import f1_score, precision_score, recall_score"
   ]
  },
  {
   "cell_type": "code",
   "execution_count": 26,
   "metadata": {},
   "outputs": [],
   "source": [
    "idx_2_sum_loss = {idx: 0 for idx in range(60000)}\n",
    "\n",
    "start_from = 0\n",
    "end = 100\n",
    "\n",
    "for g_idx in global_indexes:\n",
    "  new_idx = orig_idx_2_shuffle[g_idx]\n",
    "  for epoch in range(start_from, end):\n",
    "    idx_2_sum_loss[new_idx] += samples_losses[new_idx][epoch]"
   ]
  },
  {
   "cell_type": "code",
   "execution_count": 27,
   "metadata": {},
   "outputs": [],
   "source": [
    "sum_losses = idx_2_sum_loss.values()"
   ]
  },
  {
   "cell_type": "code",
   "execution_count": 28,
   "metadata": {},
   "outputs": [
    {
     "data": {
      "text/plain": [
       "array([0., 0., 0., ..., 0., 0., 0.])"
      ]
     },
     "execution_count": 28,
     "metadata": {},
     "output_type": "execute_result"
    }
   ],
   "source": [
    "y_true = np.zeros(60000)\n",
    "for i in range(54000, 57000):\n",
    "    y_true[orig_idx_2_shuffle[i]] = 1\n",
    "\n",
    "y_true"
   ]
  },
  {
   "cell_type": "code",
   "execution_count": 29,
   "metadata": {},
   "outputs": [
    {
     "name": "stdout",
     "output_type": "stream",
     "text": [
      "34.47250945866107\n"
     ]
    },
    {
     "data": {
      "text/plain": [
       "3000"
      ]
     },
     "execution_count": 29,
     "metadata": {},
     "output_type": "execute_result"
    }
   ],
   "source": [
    "q = np.quantile(np.array(list(sum_losses)), q=0.95)\n",
    "print(q)\n",
    "sum(np.array(list(sum_losses)) > q)"
   ]
  },
  {
   "cell_type": "code",
   "execution_count": 30,
   "metadata": {},
   "outputs": [
    {
     "data": {
      "text/plain": [
       "array([0., 0., 0., ..., 0., 0., 0.])"
      ]
     },
     "execution_count": 30,
     "metadata": {},
     "output_type": "execute_result"
    }
   ],
   "source": [
    "preds = np.zeros(60000)\n",
    "for idx, sl in idx_2_sum_loss.items():\n",
    "  if sl > q:\n",
    "    preds[idx] = 1\n",
    "\n",
    "preds"
   ]
  },
  {
   "cell_type": "code",
   "execution_count": 31,
   "metadata": {},
   "outputs": [
    {
     "name": "stdout",
     "output_type": "stream",
     "text": [
      "f1_score(y_true, preds)=0.5023333333333333\n",
      "precision_score(y_true, preds)=0.5023333333333333\n",
      "recall_score(y_true, preds)=0.5023333333333333\n"
     ]
    }
   ],
   "source": [
    "print(f\"{f1_score(y_true, preds)=}\")\n",
    "print(f\"{precision_score(y_true, preds)=}\")\n",
    "print(f\"{recall_score(y_true, preds)=}\")"
   ]
  },
  {
   "cell_type": "code",
   "execution_count": 41,
   "metadata": {},
   "outputs": [
    {
     "data": {
      "text/plain": [
       "3000"
      ]
     },
     "execution_count": 41,
     "metadata": {},
     "output_type": "execute_result"
    }
   ],
   "source": [
    "preds_sl = [idx_2_sum_loss[idx] for idx in range(60000) if preds[idx] == 1]\n",
    "len(preds_sl)"
   ]
  },
  {
   "cell_type": "code",
   "execution_count": null,
   "metadata": {},
   "outputs": [],
   "source": [
    "mixed_samples_losses = []\n",
    "for idx in range(54000, 57000):\n",
    "  new_idx = orig_idx_2_shuffle[idx]\n",
    "  mixed_samples_losses.append(idx_2_sum_loss[new_idx])"
   ]
  },
  {
   "cell_type": "code",
   "execution_count": 53,
   "metadata": {},
   "outputs": [
    {
     "data": {
      "image/png": "[encoded data removed]",
      "text/plain": [
       "<Figure size 640x480 with 1 Axes>"
      ]
     },
     "metadata": {},
     "output_type": "display_data"
    }
   ],
   "source": [
    "plt.hist(preds_sl, bins=50, label=\"preds\", log=True, alpha=0.3)\n",
    "plt.hist(mixed_samples_losses, bins=100, label=\"mixed\", log=True, alpha=0.3)\n",
    "plt.legend()\n",
    "plt.show()"
   ]
  },
  {
   "cell_type": "code",
   "execution_count": null,
   "metadata": {},
   "outputs": [],
   "source": []
  }
 ],
 "metadata": {
  "kernelspec": {
   "display_name": "tutorials",
   "language": "python",
   "name": "python3"
  },
  "language_info": {
   "codemirror_mode": {
    "name": "ipython",
    "version": 3
   },
   "file_extension": ".py",
   "mimetype": "text/x-python",
   "name": "python",
   "nbconvert_exporter": "python",
   "pygments_lexer": "ipython3",
   "version": "3.8.18"
  }
 },
 "nbformat": 4,
 "nbformat_minor": 2
}
