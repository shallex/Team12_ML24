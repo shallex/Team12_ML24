{
 "cells": [
  {
   "cell_type": "code",
   "execution_count": 26,
   "metadata": {},
   "outputs": [],
   "source": [
    "import torch\n",
    "import torchvision\n",
    "\n",
    "import torch.nn as nn\n",
    "import torch.nn.functional as F\n",
    "import torch.optim as optim\n",
    "from copy import deepcopy\n",
    "import pandas as pd\n",
    "import matplotlib.pyplot as plt\n",
    "from torchinfo import summary\n",
    "\n",
    "import numpy as np\n",
    "\n",
    "from misc.datasets_ae import AutoencoderDataset, MNIST_w_imagesums\n",
    "from misc.autoencoder import Autoencoder, MNIST_ConvEncoder, MNIST_ConvDecoder\n",
    "from torchinfo import summary\n",
    "from ssim import ssim"
   ]
  },
  {
   "cell_type": "code",
   "execution_count": 4,
   "metadata": {},
   "outputs": [],
   "source": [
    "DEVICE = 'cuda:0'\n",
    "\n",
    "SEED = 0\n",
    "\n",
    "torch.backends.cudnn.enabled = False\n",
    "torch.manual_seed(SEED)\n",
    "np.random.seed(SEED)"
   ]
  },
  {
   "cell_type": "markdown",
   "metadata": {},
   "source": [
    "# Data"
   ]
  },
  {
   "cell_type": "code",
   "execution_count": 7,
   "metadata": {},
   "outputs": [],
   "source": [
    "class IndexDataset(torch.utils.data.Dataset):\n",
    "    \"\"\"\n",
    "    Simple wrapper to get the index of each element in the original dataset\n",
    "    \"\"\"\n",
    "    \n",
    "    def __init__(self, dataset : torch.utils.data.Dataset):\n",
    "        \"\"\"\n",
    "        Initialization.\n",
    "        \n",
    "        Parameters\n",
    "        ----------\n",
    "        dataset\n",
    "            The dataset which to wrap.\n",
    "        \"\"\"\n",
    "        \n",
    "        self.dataset = dataset\n",
    "\n",
    "    def __len__(self):\n",
    "        return len(self.dataset)\n",
    "    \n",
    "    def __getitem__(self, index):\n",
    "        outs = self.dataset[index]\n",
    "        return index, *outs "
   ]
  },
  {
   "cell_type": "code",
   "execution_count": 19,
   "metadata": {
    "scrolled": false
   },
   "outputs": [],
   "source": [
    "batch_size_train = 512\n",
    "batch_size_test  = 1024\n",
    "\n",
    "train_transforms = torchvision.transforms.Compose([\n",
    "    torchvision.transforms.ToTensor(),\n",
    "    torchvision.transforms.Normalize((0.1307,), (0.3081,))\n",
    "])\n",
    "\n",
    "test_transforms = torchvision.transforms.Compose([\n",
    "    torchvision.transforms.ToTensor(),\n",
    "    torchvision.transforms.Normalize((0.1307,), (0.3081,))\n",
    "])\n",
    "\n",
    "train_ds = torchvision.datasets.MNIST(root=\"./files/\", download=True, transform=train_transforms)\n",
    "test_ds = torchvision.datasets.MNIST(root=\"./files/\", download=True, transform=test_transforms, train=False)\n",
    "\n",
    "aug_ratio = 0.1\n",
    "train_ds = MNIST_w_imagesums(train_ds, aug_ratio=aug_ratio)\n",
    "\n",
    "train_ds = AutoencoderDataset(train_ds)\n",
    "test_ds = AutoencoderDataset(test_ds)\n",
    "\n",
    "split_1_ds, split_2_ds = torch.utils.data.random_split(train_ds, [len(train_ds) // 2]*2)\n",
    "split_1_ds = IndexDataset(split_1_ds)\n",
    "split_2_ds = IndexDataset(split_2_ds)\n",
    "\n",
    "split1_loader = torch.utils.data.DataLoader(split_1_ds, \n",
    "                                            batch_size=batch_size_train, \n",
    "                                            shuffle=True, \n",
    "                                            num_workers=8,\n",
    "                                            pin_memory=True)\n",
    "split2_loader = torch.utils.data.DataLoader(split_2_ds, \n",
    "                                            batch_size=batch_size_train, \n",
    "                                            shuffle=True, \n",
    "                                            num_workers=8,\n",
    "                                            pin_memory=True)\n",
    "\n",
    "test_loader = torch.utils.data.DataLoader(test_ds, batch_size=batch_size_test, shuffle=False)"
   ]
  },
  {
   "cell_type": "markdown",
   "metadata": {},
   "source": [
    "# Training model"
   ]
  },
  {
   "cell_type": "code",
   "execution_count": 102,
   "metadata": {},
   "outputs": [],
   "source": [
    "def log_mse(logits, targets, sample_idx, sample_mse_list):\n",
    "    sample_mse = torch.mean((logits - targets)**2, axis=(1,2,3)).cpu().numpy()\n",
    "    sample_mse = np.hstack([sample_idx.numpy().reshape(-1, 1), sample_mse.reshape(-1, 1)])\n",
    "    sample_mse_list.append(sample_mse)\n",
    "    return sample_mse_list\n",
    "\n",
    "def log_ssim(logits, targets, sample_idx, sample_ssim_list):\n",
    "    sample_ssim = ssim(logits, targets, size_average=False, win_size=11, data_range=1.0).cpu().numpy()\n",
    "    sample_ssim = np.hstack([sample_idx.numpy().reshape(-1, 1), sample_ssim.reshape(-1, 1)])\n",
    "    sample_ssim_list.append(sample_ssim)\n",
    "    return sample_ssim_list\n",
    "    \n",
    "def train(model, epoch, train_loader, loss_fn, log_loader=None, log_step_rel=1.0):\n",
    "    model.train()\n",
    "    sample_mse = []\n",
    "    sample_ssim = []\n",
    "    train_losses = []\n",
    "\n",
    "    if log_loader is None:\n",
    "        log_loader = train_loader\n",
    "        log_step = None\n",
    "    else:\n",
    "        log_step = int(log_step_rel * len(train_loader))\n",
    "\n",
    "    for step, (sample_idx, data, target) in enumerate(train_loader):\n",
    "        optimizer.zero_grad()\n",
    "        data = data.to(DEVICE)\n",
    "        target = target.to(DEVICE)\n",
    "        logits = model(data)\n",
    "        loss = loss_fn(logits, target)\n",
    "        loss.backward()\n",
    "        optimizer.step()\n",
    "\n",
    "        ### sample_scores calculation\n",
    "        if log_step is None:\n",
    "            log_mse(logits.detach(), target, sample_idx, sample_mse)\n",
    "            log_ssim(logits.detach(), target, sample_idx, sample_ssim)\n",
    "        elif step % log_step == 0:\n",
    "            mse_log, ssim_log = test(model, log_loader)\n",
    "            sample_mse.append(mse_log)\n",
    "            sample_ssim.append(ssim_log)\n",
    "            model.train()\n",
    "\n",
    "        train_losses.append(loss.item())\n",
    "    \n",
    "    sample_mse = np.vstack(sample_mse)\n",
    "    sample_ssim = np.vstack(sample_ssim)\n",
    "    \n",
    "    return train_losses, sample_mse, sample_ssim"
   ]
  },
  {
   "cell_type": "code",
   "execution_count": 114,
   "metadata": {},
   "outputs": [],
   "source": [
    "def test(model, test_loader):\n",
    "    model.eval()\n",
    "    sample_mse = []\n",
    "    sample_ssim = []\n",
    "    \n",
    "    with torch.no_grad():\n",
    "        for sample_idx, data, target in test_loader:\n",
    "            data = data.to(DEVICE)\n",
    "            target = target.to(DEVICE)\n",
    "            logits = model(data)\n",
    "\n",
    "            log_mse(logits.detach(), target, sample_idx, sample_mse)\n",
    "            log_ssim(logits.detach(), target, sample_idx, sample_ssim)\n",
    "\n",
    "    sample_mse = np.vstack(sample_mse)\n",
    "    sample_ssim = np.vstack(sample_ssim)\n",
    "    \n",
    "    return sample_mse, sample_ssim"
   ]
  },
  {
   "cell_type": "markdown",
   "metadata": {},
   "source": [
    "# SSFT"
   ]
  },
  {
   "cell_type": "markdown",
   "metadata": {},
   "source": [
    "### First Split Training"
   ]
  },
  {
   "cell_type": "code",
   "execution_count": 116,
   "metadata": {},
   "outputs": [],
   "source": [
    "learning_rate = 1e-2\n",
    "loss_fn = torch.nn.MSELoss()\n",
    "n_epochs = 500\n",
    "\n",
    "latent_dim = 10             \n",
    "model = Autoencoder(\n",
    "    MNIST_ConvEncoder(latent_dim=latent_dim), \n",
    "    MNIST_ConvDecoder(latent_dim=latent_dim)).to(DEVICE)\n",
    "\n",
    "optimizer = optim.SGD(model.parameters(), lr=learning_rate, momentum=0.9, weight_decay=5e-4)"
   ]
  },
  {
   "cell_type": "code",
   "execution_count": 117,
   "metadata": {},
   "outputs": [],
   "source": [
    "# t = split1_loader\n",
    "# split1_loader = split2_loader\n",
    "# split2_loader = t\n",
    "# curr_split_ds = split_2_ds\n",
    "# print('Swapped split_1 and split_2')"
   ]
  },
  {
   "cell_type": "code",
   "execution_count": 118,
   "metadata": {},
   "outputs": [
    {
     "data": {
      "application/json": {
       "ascii": false,
       "bar_format": null,
       "colour": null,
       "elapsed": 0.004951953887939453,
       "initial": 0,
       "n": 0,
       "ncols": null,
       "nrows": 67,
       "postfix": null,
       "prefix": "",
       "rate": null,
       "total": 500,
       "unit": "it",
       "unit_divisor": 1000,
       "unit_scale": false
      },
      "application/vnd.jupyter.widget-view+json": {
       "model_id": "54757910fce74572b560e51f3b496314",
       "version_major": 2,
       "version_minor": 0
      },
      "text/plain": [
       "  0%|          | 0/500 [00:00<?, ?it/s]"
      ]
     },
     "metadata": {},
     "output_type": "display_data"
    },
    {
     "name": "stdout",
     "output_type": "stream",
     "text": [
      "Epoch 1 loss: 0.9934804035084588\n",
      "Epoch 2 loss: 0.7903375093426023\n",
      "Epoch 3 loss: 0.7055046185851097\n",
      "Epoch 4 loss: 0.7022236021501678\n",
      "Epoch 5 loss: 0.6994750105908939\n",
      "Epoch 6 loss: 0.6942718720861843\n",
      "Epoch 7 loss: 0.6829781266195434\n",
      "Epoch 8 loss: 0.6715465379612786\n",
      "Epoch 9 loss: 0.6626121561442103\n",
      "Epoch 10 loss: 0.6559704574091094\n",
      "Epoch 11 loss: 0.6438171746475356\n",
      "Epoch 12 loss: 0.6025844131197248\n",
      "Epoch 13 loss: 0.5657556855252811\n",
      "Epoch 14 loss: 0.5343722190175738\n",
      "Epoch 15 loss: 0.5210991310221809\n",
      "Epoch 16 loss: 0.5020267691995416\n",
      "Epoch 17 loss: 0.4920482869659151\n",
      "Epoch 18 loss: 0.4755938707717827\n",
      "Epoch 19 loss: 0.4682663253375462\n",
      "Epoch 20 loss: 0.45100190384047373\n",
      "Epoch 21 loss: 0.43816316393869265\n",
      "Epoch 22 loss: 0.429499840097768\n",
      "Epoch 23 loss: 0.4179917478135654\n",
      "Epoch 24 loss: 0.4075015341596944\n",
      "Epoch 25 loss: 0.4004164715962751\n",
      "Epoch 26 loss: 0.3927549214235374\n",
      "Epoch 27 loss: 0.3868455695254462\n",
      "Epoch 28 loss: 0.3781933821737766\n",
      "Epoch 29 loss: 0.37242461847407476\n",
      "Epoch 30 loss: 0.36572540551424026\n",
      "Epoch 31 loss: 0.3612851771925177\n",
      "Epoch 32 loss: 0.3541257306933403\n",
      "Epoch 33 loss: 0.35106867285711424\n",
      "Epoch 34 loss: 0.3498045275253909\n",
      "Epoch 35 loss: 0.33978739753365517\n",
      "Epoch 36 loss: 0.3370846158691815\n",
      "Epoch 37 loss: 0.33552601667387144\n",
      "Epoch 38 loss: 0.33062640045370373\n",
      "Epoch 39 loss: 0.325378915561097\n",
      "Epoch 40 loss: 0.3255138892148222\n",
      "Epoch 41 loss: 0.32344960421323776\n",
      "Epoch 42 loss: 0.31832811289599966\n",
      "Epoch 43 loss: 0.3166637622884342\n",
      "Epoch 44 loss: 0.3124705744641168\n",
      "Epoch 45 loss: 0.31175930851272177\n",
      "Epoch 46 loss: 0.3086723115827356\n",
      "Epoch 47 loss: 0.3059016742876598\n",
      "Epoch 48 loss: 0.30373673886060715\n",
      "Epoch 49 loss: 0.30288926512002945\n",
      "Epoch 50 loss: 0.30170469890747753\n",
      "Epoch 51 loss: 0.2991363097514425\n",
      "Epoch 52 loss: 0.2949544409556048\n",
      "Epoch 53 loss: 0.29833870753645897\n",
      "Epoch 54 loss: 0.2917570487729141\n",
      "Epoch 55 loss: 0.29104269242712427\n",
      "Epoch 56 loss: 0.2895749184702124\n",
      "Epoch 57 loss: 0.2886495382658073\n",
      "Epoch 58 loss: 0.28625690032328877\n",
      "Epoch 59 loss: 0.2867106774023601\n",
      "Epoch 60 loss: 0.2849787888782365\n",
      "Epoch 61 loss: 0.28145711390035494\n",
      "Epoch 62 loss: 0.28216284832784105\n",
      "Epoch 63 loss: 0.2794254188026701\n",
      "Epoch 64 loss: 0.2775041104427406\n",
      "Epoch 65 loss: 0.27799256944230627\n",
      "Epoch 66 loss: 0.2751809406493391\n",
      "Epoch 67 loss: 0.27441874678645817\n",
      "Epoch 68 loss: 0.2755113552723612\n",
      "Epoch 69 loss: 0.2710238625960691\n",
      "Epoch 70 loss: 0.2707762345671654\n",
      "Epoch 71 loss: 0.2701348800744329\n",
      "Epoch 72 loss: 0.2692026602370398\n",
      "Epoch 73 loss: 0.2683784104883671\n",
      "Epoch 74 loss: 0.2690630443394184\n",
      "Epoch 75 loss: 0.26505834768925396\n",
      "Epoch 76 loss: 0.2653139393244471\n",
      "Epoch 77 loss: 0.2633992364364011\n",
      "Epoch 78 loss: 0.26255232095718384\n",
      "Epoch 79 loss: 0.26141228021255564\n",
      "Epoch 80 loss: 0.26028532002653393\n",
      "Epoch 81 loss: 0.26018489577940535\n",
      "Epoch 82 loss: 0.25947573435093674\n",
      "Epoch 83 loss: 0.25927646458148956\n",
      "Epoch 84 loss: 0.2567732634821108\n",
      "Epoch 85 loss: 0.25758010814232485\n",
      "Epoch 86 loss: 0.2569113054445812\n",
      "Epoch 87 loss: 0.2556287172649588\n",
      "Epoch 88 loss: 0.253904843170728\n",
      "Epoch 89 loss: 0.2535455987921783\n",
      "Epoch 90 loss: 0.2519204281270504\n",
      "Epoch 91 loss: 0.2516277879476547\n",
      "Epoch 92 loss: 0.25031961048288004\n",
      "Epoch 93 loss: 0.2500381094536611\n",
      "Epoch 94 loss: 0.24877009780279227\n",
      "Epoch 95 loss: 0.24852344313902514\n",
      "Epoch 96 loss: 0.2477952537259885\n",
      "Epoch 97 loss: 0.24742863087781838\n",
      "Epoch 98 loss: 0.24686724080571107\n",
      "Epoch 99 loss: 0.24660586326250009\n",
      "Epoch 100 loss: 0.2456636434154851\n",
      "Epoch 101 loss: 0.244454914437873\n",
      "Epoch 102 loss: 0.24411853855209692\n",
      "Epoch 103 loss: 0.24247461557388306\n",
      "Epoch 104 loss: 0.24269501279507363\n",
      "Epoch 105 loss: 0.2413507668035371\n",
      "Epoch 106 loss: 0.24095778539776802\n",
      "Epoch 107 loss: 0.2416887041181326\n",
      "Epoch 108 loss: 0.23979880740599974\n",
      "Epoch 109 loss: 0.2385908000703369\n",
      "Epoch 110 loss: 0.24037351805184567\n",
      "Epoch 111 loss: 0.2399628460407257\n",
      "Epoch 112 loss: 0.23779639016304696\n",
      "Epoch 113 loss: 0.236641829301204\n",
      "Epoch 114 loss: 0.2368841881730727\n",
      "Epoch 115 loss: 0.23775817107941424\n",
      "Epoch 116 loss: 0.235831315230046\n",
      "Epoch 117 loss: 0.23592122857059752\n",
      "Epoch 118 loss: 0.23410039129001753\n",
      "Epoch 119 loss: 0.2340247029704707\n",
      "Epoch 120 loss: 0.23397023443664824\n",
      "Epoch 121 loss: 0.23346053808927536\n",
      "Epoch 122 loss: 0.23228919692337513\n",
      "Epoch 123 loss: 0.23408855125308037\n",
      "Epoch 124 loss: 0.23191903744425094\n",
      "Epoch 125 loss: 0.2315029233161892\n",
      "Epoch 126 loss: 0.2316028345376253\n",
      "Epoch 127 loss: 0.23126797085361822\n",
      "Epoch 128 loss: 0.22998210761163915\n",
      "Epoch 129 loss: 0.2298458388873509\n",
      "Epoch 130 loss: 0.22902995853551797\n",
      "Epoch 131 loss: 0.22835764714649745\n",
      "Epoch 132 loss: 0.22874912087406432\n",
      "Epoch 133 loss: 0.2279794362506696\n",
      "Epoch 134 loss: 0.22778678738645144\n",
      "Epoch 135 loss: 0.22890988923609257\n",
      "Epoch 136 loss: 0.22696287051907607\n",
      "Epoch 137 loss: 0.22703548440975801\n",
      "Epoch 138 loss: 0.22577668806271894\n",
      "Epoch 139 loss: 0.2260693833231926\n",
      "Epoch 140 loss: 0.22591169657451765\n",
      "Epoch 141 loss: 0.2247843537479639\n",
      "Epoch 142 loss: 0.22543137706816196\n",
      "Epoch 143 loss: 0.22421610355377197\n",
      "Epoch 144 loss: 0.223884431379182\n",
      "Epoch 145 loss: 0.22338755854538508\n",
      "Epoch 146 loss: 0.2231567001768521\n",
      "Epoch 147 loss: 0.22436144522258214\n",
      "Epoch 148 loss: 0.2230018630091633\n",
      "Epoch 149 loss: 0.22263310849666595\n",
      "Epoch 150 loss: 0.22111458384564944\n",
      "Epoch 151 loss: 0.2224778314786298\n",
      "Epoch 152 loss: 0.22161516493984632\n",
      "Epoch 153 loss: 0.22195766254195146\n",
      "Epoch 154 loss: 0.220998490229249\n",
      "Epoch 155 loss: 0.22303429884569986\n",
      "Epoch 156 loss: 0.21985736169985362\n",
      "Epoch 157 loss: 0.21990967808025225\n",
      "Epoch 158 loss: 0.21948699014527456\n",
      "Epoch 159 loss: 0.21906902135482856\n",
      "Epoch 160 loss: 0.21956451423466206\n",
      "Epoch 161 loss: 0.21902626593198096\n",
      "Epoch 162 loss: 0.21838550003511564\n",
      "Epoch 163 loss: 0.21889293433300086\n",
      "Epoch 164 loss: 0.21699680813721248\n",
      "Epoch 165 loss: 0.21754192507692746\n",
      "Epoch 166 loss: 0.21861316609595502\n",
      "Epoch 167 loss: 0.21793290892882006\n",
      "Epoch 168 loss: 0.2172112496835845\n",
      "Epoch 169 loss: 0.2162485383450985\n",
      "Epoch 170 loss: 0.21646803165120737\n",
      "Epoch 171 loss: 0.21539621667138167\n",
      "Epoch 172 loss: 0.21587087932441915\n",
      "Epoch 173 loss: 0.21530543746692793\n",
      "Epoch 174 loss: 0.21573050852332795\n",
      "Epoch 175 loss: 0.2160158005676099\n",
      "Epoch 176 loss: 0.21603558691484587\n",
      "Epoch 177 loss: 0.2150237424565213\n",
      "Epoch 178 loss: 0.21550726305161202\n",
      "Epoch 179 loss: 0.21505805770201342\n",
      "Epoch 180 loss: 0.21366996664021695\n",
      "Epoch 181 loss: 0.21435644663870335\n",
      "Epoch 182 loss: 0.21304672716983727\n",
      "Epoch 183 loss: 0.21341436436133726\n",
      "Epoch 184 loss: 0.2129130730671542\n",
      "Epoch 185 loss: 0.21276924759149551\n",
      "Epoch 186 loss: 0.21308918856084347\n",
      "Epoch 187 loss: 0.2129878598664488\n",
      "Epoch 188 loss: 0.21352190284856729\n",
      "Epoch 189 loss: 0.2126026629869427\n",
      "Epoch 190 loss: 0.21195125074258872\n",
      "Epoch 191 loss: 0.21191729179450444\n",
      "Epoch 192 loss: 0.21189961289720877\n",
      "Epoch 193 loss: 0.21123630526874745\n",
      "Epoch 194 loss: 0.2117032100047384\n",
      "Epoch 195 loss: 0.21082254658852304\n",
      "Epoch 196 loss: 0.2106023332370179\n",
      "Epoch 197 loss: 0.21065557481987135\n",
      "Epoch 198 loss: 0.21048041140394552\n",
      "Epoch 199 loss: 0.20999663828739099\n",
      "Epoch 200 loss: 0.21018134403441632\n",
      "Epoch 201 loss: 0.20963140896388463\n",
      "Epoch 202 loss: 0.21076160642717565\n",
      "Epoch 203 loss: 0.21028312189238413\n",
      "Epoch 204 loss: 0.20991578724767482\n",
      "Epoch 205 loss: 0.20938820924077714\n",
      "Epoch 206 loss: 0.2088004518300295\n",
      "Epoch 207 loss: 0.20796373140599048\n",
      "Epoch 208 loss: 0.20877837363098348\n",
      "Epoch 209 loss: 0.20819696358272008\n",
      "Epoch 210 loss: 0.20929179580083915\n",
      "Epoch 211 loss: 0.20812277549079486\n",
      "Epoch 212 loss: 0.20816227048635483\n",
      "Epoch 213 loss: 0.20743191268827235\n",
      "Epoch 214 loss: 0.20898599363863468\n",
      "Epoch 215 loss: 0.20722863849784648\n",
      "Epoch 216 loss: 0.2079582687999521\n",
      "Epoch 217 loss: 0.20701368578842708\n",
      "Epoch 218 loss: 0.2071485873311758\n",
      "Epoch 219 loss: 0.20692530247781957\n",
      "Epoch 220 loss: 0.2065002569662673\n",
      "Epoch 221 loss: 0.20683866340134824\n",
      "Epoch 222 loss: 0.20720477827957698\n",
      "Epoch 223 loss: 0.20667739744697297\n",
      "Epoch 224 loss: 0.20740734519703047\n",
      "Epoch 225 loss: 0.20543970007981574\n",
      "Epoch 226 loss: 0.20704029074737004\n",
      "Epoch 227 loss: 0.20591188727744988\n",
      "Epoch 228 loss: 0.20495336476181233\n",
      "Epoch 229 loss: 0.20544736858989512\n",
      "Epoch 230 loss: 0.2054128303591694\n",
      "Epoch 231 loss: 0.20593168613101756\n",
      "Epoch 232 loss: 0.20538161828049592\n",
      "Epoch 233 loss: 0.20524484690810954\n",
      "Epoch 234 loss: 0.20447212989841188\n"
     ]
    },
    {
     "name": "stdout",
     "output_type": "stream",
     "text": [
      "Epoch 235 loss: 0.2043580516640629\n",
      "Epoch 236 loss: 0.204108971038035\n",
      "Epoch 237 loss: 0.20477490100477422\n",
      "Epoch 238 loss: 0.20426758591617858\n",
      "Epoch 239 loss: 0.20430749920862062\n",
      "Epoch 240 loss: 0.20370158260422094\n",
      "Epoch 241 loss: 0.2063821285430874\n",
      "Epoch 242 loss: 0.203187850436994\n",
      "Epoch 243 loss: 0.20347202755510807\n",
      "Epoch 244 loss: 0.2029619012027979\n",
      "Epoch 245 loss: 0.20273622710789954\n",
      "Epoch 246 loss: 0.2033735348709992\n",
      "Epoch 247 loss: 0.20319235644170217\n",
      "Epoch 248 loss: 0.2042316874223096\n",
      "Epoch 249 loss: 0.20322959949927671\n",
      "Epoch 250 loss: 0.20349734941763536\n",
      "Epoch 251 loss: 0.20269459885145938\n",
      "Epoch 252 loss: 0.20273545889982156\n",
      "Epoch 253 loss: 0.20241796890539782\n",
      "Epoch 254 loss: 0.20290111883410386\n",
      "Epoch 255 loss: 0.20142573969704763\n",
      "Epoch 256 loss: 0.2017050271055528\n",
      "Epoch 257 loss: 0.20141646984432424\n",
      "Epoch 258 loss: 0.20160297197954996\n",
      "Epoch 259 loss: 0.20222840378327028\n",
      "Epoch 260 loss: 0.20129828580788203\n",
      "Epoch 261 loss: 0.20293900956000602\n",
      "Epoch 262 loss: 0.2010689162250076\n",
      "Epoch 263 loss: 0.2008336577564478\n",
      "Epoch 264 loss: 0.20160195364483766\n",
      "Epoch 265 loss: 0.20053982947553908\n",
      "Epoch 266 loss: 0.20055038375513895\n",
      "Epoch 267 loss: 0.20004854218236037\n",
      "Epoch 268 loss: 0.200315974386675\n",
      "Epoch 269 loss: 0.2011510647301163\n",
      "Epoch 270 loss: 0.20002029809568608\n",
      "Epoch 271 loss: 0.20059476872639997\n",
      "Epoch 272 loss: 0.20022550438131606\n",
      "Epoch 273 loss: 0.2001207478876625\n",
      "Epoch 274 loss: 0.199398613934006\n",
      "Epoch 275 loss: 0.19994382480425493\n",
      "Epoch 276 loss: 0.19959571744714463\n",
      "Epoch 277 loss: 0.20030533682022775\n",
      "Epoch 278 loss: 0.2003691036786352\n",
      "Epoch 279 loss: 0.2012243207011904\n",
      "Epoch 280 loss: 0.1997544765472412\n",
      "Epoch 281 loss: 0.19946748656885965\n",
      "Epoch 282 loss: 0.19981199130415916\n",
      "Epoch 283 loss: 0.1989969927817583\n",
      "Epoch 284 loss: 0.2001301691468273\n",
      "Epoch 285 loss: 0.19899731262453965\n",
      "Epoch 286 loss: 0.19897081277200154\n",
      "Epoch 287 loss: 0.19822629541158676\n",
      "Epoch 288 loss: 0.19838163682392665\n",
      "Epoch 289 loss: 0.19822621851095132\n",
      "Epoch 290 loss: 0.19814554468861648\n",
      "Epoch 291 loss: 0.19819862661617144\n",
      "Epoch 292 loss: 0.19940354063042573\n",
      "Epoch 293 loss: 0.19791140886289732\n",
      "Epoch 294 loss: 0.19919259154370852\n",
      "Epoch 295 loss: 0.19957583264580794\n",
      "Epoch 296 loss: 0.19810730378542626\n",
      "Epoch 297 loss: 0.19730124888675554\n",
      "Epoch 298 loss: 0.19749218438352859\n",
      "Epoch 299 loss: 0.19759599811264447\n",
      "Epoch 300 loss: 0.19768274735127175\n",
      "Epoch 301 loss: 0.1968774494848081\n",
      "Epoch 302 loss: 0.196464511432818\n",
      "Epoch 303 loss: 0.19685046694108418\n",
      "Epoch 304 loss: 0.1967893713819129\n",
      "Epoch 305 loss: 0.19695340788790158\n",
      "Epoch 306 loss: 0.1964265579091651\n",
      "Epoch 307 loss: 0.1958102671695607\n",
      "Epoch 308 loss: 0.1979134881070682\n",
      "Epoch 309 loss: 0.19759687621678626\n",
      "Epoch 310 loss: 0.19656540320387908\n",
      "Epoch 311 loss: 0.1964559227760349\n",
      "Epoch 312 loss: 0.19748029112815857\n",
      "Epoch 313 loss: 0.19705368684870855\n",
      "Epoch 314 loss: 0.19677617134792463\n",
      "Epoch 315 loss: 0.1968400406518153\n",
      "Epoch 316 loss: 0.19719126048896993\n",
      "Epoch 317 loss: 0.19741396898669855\n",
      "Epoch 318 loss: 0.1953309319381203\n",
      "Epoch 319 loss: 0.19528501800128392\n",
      "Epoch 320 loss: 0.19610409704702242\n",
      "Epoch 321 loss: 0.19602438913924353\n",
      "Epoch 322 loss: 0.19466489925980568\n",
      "Epoch 323 loss: 0.19539252163044044\n",
      "Epoch 324 loss: 0.19639038773519651\n",
      "Epoch 325 loss: 0.19466616665678366\n",
      "Epoch 326 loss: 0.19479101310883248\n",
      "Epoch 327 loss: 0.19581351775143827\n",
      "Epoch 328 loss: 0.19484262860247067\n",
      "Epoch 329 loss: 0.19588829603578364\n",
      "Epoch 330 loss: 0.1948326929871525\n",
      "Epoch 331 loss: 0.19484379195741244\n",
      "Epoch 332 loss: 0.19497210878346646\n",
      "Epoch 333 loss: 0.19440356748444693\n",
      "Epoch 334 loss: 0.19545012233512743\n",
      "Epoch 335 loss: 0.19383137726358005\n",
      "Epoch 336 loss: 0.19403306793953692\n",
      "Epoch 337 loss: 0.1951864662447146\n",
      "Epoch 338 loss: 0.19462424782770021\n",
      "Epoch 339 loss: 0.19372549865927016\n",
      "Epoch 340 loss: 0.19528892689517566\n",
      "Epoch 341 loss: 0.19472379104367324\n",
      "Epoch 342 loss: 0.1947986294648477\n",
      "Epoch 343 loss: 0.19462072184043272\n",
      "Epoch 344 loss: 0.19417360611259937\n",
      "Epoch 345 loss: 0.19359053884233748\n",
      "Epoch 346 loss: 0.19353148554052627\n",
      "Epoch 347 loss: 0.1935581626104457\n",
      "Epoch 348 loss: 0.1943495079342808\n",
      "Epoch 349 loss: 0.19379341868417604\n",
      "Epoch 350 loss: 0.19284432966794288\n",
      "Epoch 351 loss: 0.1933954174497298\n",
      "Epoch 352 loss: 0.19322342691676958\n",
      "Epoch 353 loss: 0.19369068635361536\n",
      "Epoch 354 loss: 0.19265077342944487\n",
      "Epoch 355 loss: 0.19252283658300126\n",
      "Epoch 356 loss: 0.1939101948269776\n",
      "Epoch 357 loss: 0.19293903532837117\n",
      "Epoch 358 loss: 0.19362222562943185\n",
      "Epoch 359 loss: 0.19248008382107532\n",
      "Epoch 360 loss: 0.19258399946349009\n",
      "Epoch 361 loss: 0.19211205414363317\n",
      "Epoch 362 loss: 0.19275946196700847\n",
      "Epoch 363 loss: 0.19228660661195004\n",
      "Epoch 364 loss: 0.19198748895100184\n",
      "Epoch 365 loss: 0.19223764884684766\n",
      "Epoch 366 loss: 0.19191421834485872\n",
      "Epoch 367 loss: 0.19266700106007711\n",
      "Epoch 368 loss: 0.19192331949515\n",
      "Epoch 369 loss: 0.1919114344886371\n",
      "Epoch 370 loss: 0.19188967666455678\n",
      "Epoch 371 loss: 0.19161359540053777\n",
      "Epoch 372 loss: 0.19128060154616833\n",
      "Epoch 373 loss: 0.19171733568821633\n",
      "Epoch 374 loss: 0.19166292729122297\n",
      "Epoch 375 loss: 0.1918237725538867\n",
      "Epoch 376 loss: 0.192173247890813\n",
      "Epoch 377 loss: 0.19152218209845678\n",
      "Epoch 378 loss: 0.1918649080076388\n",
      "Epoch 379 loss: 0.19164897049111979\n",
      "Epoch 380 loss: 0.19211301633289882\n",
      "Epoch 381 loss: 0.19065964221954346\n",
      "Epoch 382 loss: 0.1909005878759282\n",
      "Epoch 383 loss: 0.19074757982577598\n",
      "Epoch 384 loss: 0.19255332515708037\n",
      "Epoch 385 loss: 0.1917274267013584\n",
      "Epoch 386 loss: 0.1906944207314934\n",
      "Epoch 387 loss: 0.19129113081310475\n",
      "Epoch 388 loss: 0.19107657138790404\n",
      "Epoch 389 loss: 0.19009893839912756\n",
      "Epoch 390 loss: 0.19034697487950325\n",
      "Epoch 391 loss: 0.1906173069562231\n",
      "Epoch 392 loss: 0.18951997772923537\n",
      "Epoch 393 loss: 0.1917020274060113\n",
      "Epoch 394 loss: 0.1906858365982771\n",
      "Epoch 395 loss: 0.19192391075193882\n",
      "Epoch 396 loss: 0.18997694631772383\n",
      "Epoch 397 loss: 0.1900914404541254\n",
      "Epoch 398 loss: 0.18997015857270785\n",
      "Epoch 399 loss: 0.19032989868095943\n",
      "Epoch 400 loss: 0.19087786440338408\n",
      "Epoch 401 loss: 0.19082734095198767\n",
      "Epoch 402 loss: 0.18939986212977342\n",
      "Epoch 403 loss: 0.18930121058864252\n",
      "Epoch 404 loss: 0.18978390922503813\n",
      "Epoch 405 loss: 0.18905266374349594\n",
      "Epoch 406 loss: 0.1904922215534108\n",
      "Epoch 407 loss: 0.19014535365360125\n",
      "Epoch 408 loss: 0.1891669649630785\n",
      "Epoch 409 loss: 0.19025197917861597\n",
      "Epoch 410 loss: 0.18894764834216662\n",
      "Epoch 411 loss: 0.1900306096566575\n",
      "Epoch 412 loss: 0.18969702374722278\n",
      "Epoch 413 loss: 0.1885512833084379\n",
      "Epoch 414 loss: 0.18986731182251657\n",
      "Epoch 415 loss: 0.1889819729008845\n",
      "Epoch 416 loss: 0.18936059650565898\n",
      "Epoch 417 loss: 0.18874140482928073\n",
      "Epoch 418 loss: 0.18914917989500932\n",
      "Epoch 419 loss: 0.18947081773408822\n",
      "Epoch 420 loss: 0.19018059303717955\n",
      "Epoch 421 loss: 0.18895948784691946\n",
      "Epoch 422 loss: 0.1888651227844613\n",
      "Epoch 423 loss: 0.18827294558286667\n",
      "Epoch 424 loss: 0.1890211882335799\n",
      "Epoch 425 loss: 0.18790889531373978\n",
      "Epoch 426 loss: 0.18782820605805942\n",
      "Epoch 427 loss: 0.18785454705357552\n",
      "Epoch 428 loss: 0.18850112254066126\n",
      "Epoch 429 loss: 0.18955651404602186\n",
      "Epoch 430 loss: 0.18765536908592498\n",
      "Epoch 431 loss: 0.1886898045028959\n",
      "Epoch 432 loss: 0.18871659838727542\n",
      "Epoch 433 loss: 0.18904844405395643\n",
      "Epoch 434 loss: 0.18861558394772665\n",
      "Epoch 435 loss: 0.1883396314723151\n",
      "Epoch 436 loss: 0.18848713753478868\n",
      "Epoch 437 loss: 0.18804787338844367\n",
      "Epoch 438 loss: 0.1873371728828975\n",
      "Epoch 439 loss: 0.18711860398096697\n",
      "Epoch 440 loss: 0.18814889873777116\n",
      "Epoch 441 loss: 0.1868719913597618\n",
      "Epoch 442 loss: 0.1879915621663843\n",
      "Epoch 443 loss: 0.18634141954992497\n",
      "Epoch 444 loss: 0.18715054461998598\n",
      "Epoch 445 loss: 0.18713962925331934\n",
      "Epoch 446 loss: 0.18816414608487061\n",
      "Epoch 447 loss: 0.18825569243303367\n",
      "Epoch 448 loss: 0.18757158358182227\n",
      "Epoch 449 loss: 0.18703668058982917\n",
      "Epoch 450 loss: 0.18730776171599114\n",
      "Epoch 451 loss: 0.18688738425927504\n",
      "Epoch 452 loss: 0.1878419223108462\n",
      "Epoch 453 loss: 0.18867345872734273\n",
      "Epoch 454 loss: 0.1860691915665354\n",
      "Epoch 455 loss: 0.1868361591228417\n",
      "Epoch 456 loss: 0.1872486700969083\n",
      "Epoch 457 loss: 0.1865525378712586\n",
      "Epoch 458 loss: 0.18685584222631796\n",
      "Epoch 459 loss: 0.1875609585217067\n",
      "Epoch 460 loss: 0.186374284060938\n",
      "Epoch 461 loss: 0.18574389389583043\n",
      "Epoch 462 loss: 0.1866548236991678\n",
      "Epoch 463 loss: 0.18675694055855274\n",
      "Epoch 464 loss: 0.18895539481725013\n"
     ]
    },
    {
     "name": "stdout",
     "output_type": "stream",
     "text": [
      "Epoch 465 loss: 0.18652888014912605\n",
      "Epoch 466 loss: 0.1869868239653962\n",
      "Epoch 467 loss: 0.18598540872335434\n",
      "Epoch 468 loss: 0.1860342544636556\n",
      "Epoch 469 loss: 0.1864804050752095\n",
      "Epoch 470 loss: 0.1858128939888307\n",
      "Epoch 471 loss: 0.18616571836173534\n",
      "Epoch 472 loss: 0.1858807892671653\n",
      "Epoch 473 loss: 0.18559580056795053\n",
      "Epoch 474 loss: 0.1855972491736923\n",
      "Epoch 475 loss: 0.18528738218758786\n",
      "Epoch 476 loss: 0.1865787673741579\n",
      "Epoch 477 loss: 0.18548766310725892\n",
      "Epoch 478 loss: 0.18589025097233908\n",
      "Epoch 479 loss: 0.18544278533330985\n",
      "Epoch 480 loss: 0.18616719836635248\n",
      "Epoch 481 loss: 0.18524407036602497\n",
      "Epoch 482 loss: 0.18609236739575863\n",
      "Epoch 483 loss: 0.18536984947110927\n",
      "Epoch 484 loss: 0.18588300395224774\n",
      "Epoch 485 loss: 0.1850691003991025\n",
      "Epoch 486 loss: 0.18509981861071928\n",
      "Epoch 487 loss: 0.1864204779267311\n",
      "Epoch 488 loss: 0.18551200096096312\n",
      "Epoch 489 loss: 0.18607594365520136\n",
      "Epoch 490 loss: 0.1853222075317587\n",
      "Epoch 491 loss: 0.18500306590327195\n",
      "Epoch 492 loss: 0.18486471873308932\n",
      "Epoch 493 loss: 0.1845187520874398\n",
      "Epoch 494 loss: 0.18553503097168036\n",
      "Epoch 495 loss: 0.18675375995891436\n",
      "Epoch 496 loss: 0.18487262672611646\n",
      "Epoch 497 loss: 0.18444458900817803\n",
      "Epoch 498 loss: 0.18444604958806718\n",
      "Epoch 499 loss: 0.1856363019240754\n",
      "Epoch 500 loss: 0.18479556430663382\n"
     ]
    }
   ],
   "source": [
    "from tqdm.auto import tqdm\n",
    "\n",
    "\n",
    "sample_mse_by_epoch = []\n",
    "sample_ssim_by_epoch = []\n",
    "train_losses = []\n",
    "train_accs = []\n",
    "\n",
    "for epoch in tqdm(range(1, n_epochs + 1)):\n",
    "    losses, sample_mse, sample_ssim = train(model, epoch, split1_loader, loss_fn)\n",
    "    \n",
    "    train_losses.append(losses)\n",
    "    sample_mse_by_epoch.append(sample_mse)\n",
    "    sample_ssim_by_epoch.append(sample_ssim)\n",
    "    \n",
    "    print(f'Epoch {epoch} loss: {np.mean(losses)}')"
   ]
  },
  {
   "cell_type": "code",
   "execution_count": 123,
   "metadata": {},
   "outputs": [],
   "source": [
    "step_losses = np.concatenate(train_losses)\n",
    "\n",
    "epoch_losses = np.mean(train_losses, axis=1)"
   ]
  },
  {
   "cell_type": "code",
   "execution_count": 124,
   "metadata": {},
   "outputs": [
    {
     "data": {
      "text/plain": [
       "<matplotlib.legend.Legend at 0x7ff939e67280>"
      ]
     },
     "execution_count": 124,
     "metadata": {},
     "output_type": "execute_result"
    },
    {
     "data": {
      "image/png": "[encoded data removed]",
      "text/plain": [
       "<Figure size 1152x648 with 1 Axes>"
      ]
     },
     "metadata": {
      "needs_background": "light"
     },
     "output_type": "display_data"
    }
   ],
   "source": [
    "plt.figure(figsize=(16, 9))\n",
    "plt.plot(epoch_losses, color='red', label='Train losses')\n",
    "# plt.axhline(1)\n",
    "plt.grid()\n",
    "plt.legend()"
   ]
  },
  {
   "cell_type": "code",
   "execution_count": 248,
   "metadata": {},
   "outputs": [
    {
     "data": {
      "image/png": "[encoded data removed]",
      "text/plain": [
       "<Figure size 1152x648 with 1 Axes>"
      ]
     },
     "metadata": {
      "needs_background": "light"
     },
     "output_type": "display_data"
    }
   ],
   "source": [
    "a = np.array(sample_ssim_by_epoch)\n",
    "epoch_1 = a[0, :, 1]\n",
    "epoch_250 = a[250, :, 1]\n",
    "epoch_500 = a[-1, :, 1]\n",
    "\n",
    "plt.figure(figsize=(16, 9))\n",
    "plt.hist(epoch_1, bins=100, label='0 epoch')\n",
    "# plt.hist(epoch_250, bins=100, label='250 epoch', alpha=0.5)\n",
    "plt.hist(epoch_500, bins=100, label='500 epoch', alpha=0.5)\n",
    "# plt.ylim(0, 20)\n",
    "# plt.xlim(0, 0.2)\n",
    "plt.legend()\n",
    "plt.show()"
   ]
  },
  {
   "cell_type": "markdown",
   "metadata": {},
   "source": [
    "### Learning time"
   ]
  },
  {
   "cell_type": "code",
   "execution_count": 185,
   "metadata": {},
   "outputs": [],
   "source": [
    "def learning_time_from_ssim(sample_scores_by_epoch, thr=0.5):\n",
    "    learning_times = {}\n",
    "    learning_times_step = {}\n",
    "    \n",
    "    # Iterate over epochs\n",
    "    for epoch, scores in tqdm(enumerate(sample_scores_by_epoch), total=len(sample_scores_by_epoch)):\n",
    "        # Iterate over samples in the epoch\n",
    "        for step, (sample_idx, score) in enumerate(scores):\n",
    "            sample_idx = int(sample_idx)\n",
    "            \n",
    "            # reset not yet learnt or forgotten samples \n",
    "            if sample_idx not in learning_times or score < thr:\n",
    "                learning_times[sample_idx] = -1\n",
    "                learning_times_step[sample_idx] = -1\n",
    "    \n",
    "            if score > thr and learning_times[sample_idx] == -1:\n",
    "                learning_times[sample_idx] = epoch\n",
    "                learning_times_step[sample_idx] = epoch*len(scores) + step\n",
    "\n",
    "    return learning_times, learning_times_step\n",
    "\n",
    "def learning_time_from_mse(sample_scores_by_epoch, thr):\n",
    "    learning_times = {}\n",
    "    learning_times_step = {}\n",
    "    \n",
    "    # Iterate over epochs\n",
    "    for epoch, scores in tqdm(enumerate(sample_scores_by_epoch), total=len(sample_scores_by_epoch)):\n",
    "        # Iterate over samples in the epoch\n",
    "        for step, (sample_idx, score) in enumerate(scores):\n",
    "            sample_idx = int(sample_idx)\n",
    "            \n",
    "            # reset not yet learnt or forgotten samples \n",
    "            if sample_idx not in learning_times or score > thr:\n",
    "                learning_times[sample_idx] = -1\n",
    "                learning_times_step[sample_idx] = -1\n",
    "    \n",
    "            if score < thr and learning_times[sample_idx] == -1:\n",
    "                learning_times[sample_idx] = epoch\n",
    "                learning_times_step[sample_idx] = epoch*len(scores) + step\n",
    "\n",
    "    return learning_times, learning_times_step"
   ]
  },
  {
   "cell_type": "code",
   "execution_count": 198,
   "metadata": {},
   "outputs": [
    {
     "data": {
      "application/json": {
       "ascii": false,
       "bar_format": null,
       "colour": null,
       "elapsed": 0.004429817199707031,
       "initial": 0,
       "n": 0,
       "ncols": null,
       "nrows": 67,
       "postfix": null,
       "prefix": "",
       "rate": null,
       "total": 500,
       "unit": "it",
       "unit_divisor": 1000,
       "unit_scale": false
      },
      "application/vnd.jupyter.widget-view+json": {
       "model_id": "a67feb19e9e446de85843a41e16778b7",
       "version_major": 2,
       "version_minor": 0
      },
      "text/plain": [
       "  0%|          | 0/500 [00:00<?, ?it/s]"
      ]
     },
     "metadata": {},
     "output_type": "display_data"
    },
    {
     "data": {
      "application/json": {
       "ascii": false,
       "bar_format": null,
       "colour": null,
       "elapsed": 0.004389286041259766,
       "initial": 0,
       "n": 0,
       "ncols": null,
       "nrows": 67,
       "postfix": null,
       "prefix": "",
       "rate": null,
       "total": 500,
       "unit": "it",
       "unit_divisor": 1000,
       "unit_scale": false
      },
      "application/vnd.jupyter.widget-view+json": {
       "model_id": "e3ce8098fcc84305b8c1debd9a7883aa",
       "version_major": 2,
       "version_minor": 0
      },
      "text/plain": [
       "  0%|          | 0/500 [00:00<?, ?it/s]"
      ]
     },
     "metadata": {},
     "output_type": "display_data"
    }
   ],
   "source": [
    "ssim_learning_times, ssim_learning_times_step = learning_time_from_ssim(sample_ssim_by_epoch, thr=0.5)\n",
    "mse_learning_times, mse_learning_times_step = learning_time_from_mse(sample_mse_by_epoch, thr=0.65)"
   ]
  },
  {
   "cell_type": "code",
   "execution_count": 199,
   "metadata": {},
   "outputs": [],
   "source": [
    "split_1_metrics_df = pd.DataFrame(\n",
    "    [(idx, mse_learning_times_step[idx], ssim_learning_times_step[idx]) for idx in mse_learning_times.keys()],\n",
    "    columns = ['sample_idx', 'mse_learning_time', 'ssim_learning_time']\n",
    ")"
   ]
  },
  {
   "cell_type": "code",
   "execution_count": 200,
   "metadata": {},
   "outputs": [
    {
     "data": {
      "text/plain": [
       "<AxesSubplot:>"
      ]
     },
     "execution_count": 200,
     "metadata": {},
     "output_type": "execute_result"
    },
    {
     "data": {
      "image/png": "[encoded data removed]",
      "text/plain": [
       "<Figure size 432x288 with 1 Axes>"
      ]
     },
     "metadata": {
      "needs_background": "light"
     },
     "output_type": "display_data"
    }
   ],
   "source": [
    "split_1_metrics_df.ssim_learning_time.hist(bins=10)"
   ]
  },
  {
   "cell_type": "markdown",
   "metadata": {},
   "source": [
    "# Second Split training"
   ]
  },
  {
   "cell_type": "code",
   "execution_count": 119,
   "metadata": {},
   "outputs": [
    {
     "data": {
      "application/json": {
       "ascii": false,
       "bar_format": null,
       "colour": null,
       "elapsed": 0.0055866241455078125,
       "initial": 0,
       "n": 0,
       "ncols": null,
       "nrows": 67,
       "postfix": null,
       "prefix": "",
       "rate": null,
       "total": 500,
       "unit": "it",
       "unit_divisor": 1000,
       "unit_scale": false
      },
      "application/vnd.jupyter.widget-view+json": {
       "model_id": "fe57b6170b6847ee917527fd803978e9",
       "version_major": 2,
       "version_minor": 0
      },
      "text/plain": [
       "  0%|          | 0/500 [00:00<?, ?it/s]"
      ]
     },
     "metadata": {},
     "output_type": "display_data"
    }
   ],
   "source": [
    "from tqdm.auto import tqdm\n",
    "\n",
    "n_epochs = 500\n",
    "\n",
    "split_1_sample_mse_by_epoch = []\n",
    "split_1_sample_ssim_by_epoch = []\n",
    "split_1_train_losses = []\n",
    "\n",
    "for epoch in tqdm(range(1, n_epochs + 1)):\n",
    "    losses, sample_mse, sample_ssim = train(model, epoch, split2_loader, loss_fn, \n",
    "                                                      log_loader=split1_loader, log_step_rel=0.25)\n",
    "\n",
    "    split_1_train_losses.append(losses)\n",
    "    split_1_sample_mse_by_epoch.append(sample_mse)\n",
    "    split_1_sample_ssim_by_epoch.append(sample_ssim)"
   ]
  },
  {
   "cell_type": "code",
   "execution_count": 120,
   "metadata": {},
   "outputs": [],
   "source": [
    "step_losses = np.concatenate(split_1_train_losses)\n",
    "\n",
    "epoch_losses = np.mean(split_1_train_losses, axis=1)"
   ]
  },
  {
   "cell_type": "code",
   "execution_count": 122,
   "metadata": {},
   "outputs": [
    {
     "data": {
      "text/plain": [
       "<matplotlib.legend.Legend at 0x7ff939ead910>"
      ]
     },
     "execution_count": 122,
     "metadata": {},
     "output_type": "execute_result"
    },
    {
     "data": {
      "image/png": "[encoded data removed]",
      "text/plain": [
       "<Figure size 1152x648 with 1 Axes>"
      ]
     },
     "metadata": {
      "needs_background": "light"
     },
     "output_type": "display_data"
    }
   ],
   "source": [
    "plt.figure(figsize=(16, 9))\n",
    "plt.plot(epoch_losses, color='red', label='Train losses')\n",
    "# plt.axhline(1)\n",
    "plt.grid()\n",
    "plt.legend()"
   ]
  },
  {
   "cell_type": "code",
   "execution_count": 246,
   "metadata": {},
   "outputs": [
    {
     "data": {
      "image/png": "[encoded data removed]",
      "text/plain": [
       "<Figure size 1152x648 with 1 Axes>"
      ]
     },
     "metadata": {
      "needs_background": "light"
     },
     "output_type": "display_data"
    }
   ],
   "source": [
    "a = np.array(split_1_sample_mse_by_epoch)\n",
    "epoch_1 = a[0, :, 1]\n",
    "epoch_250 = a[250, :, 1]\n",
    "epoch_500 = a[-1, :, 1]\n",
    "\n",
    "plt.figure(figsize=(16, 9))\n",
    "plt.hist(epoch_1, bins=100, label='0 epoch')\n",
    "plt.hist(epoch_250, bins=100, label='250 epoch', alpha=0.5)\n",
    "plt.hist(epoch_500, bins=100, label='500 epoch', alpha=0.5)\n",
    "# plt.ylim(0, 20)\n",
    "# plt.xlim(0, 0.2)\n",
    "plt.legend()\n",
    "plt.show()"
   ]
  },
  {
   "cell_type": "markdown",
   "metadata": {},
   "source": [
    "### Forgetting Time"
   ]
  },
  {
   "cell_type": "code",
   "execution_count": 203,
   "metadata": {},
   "outputs": [],
   "source": [
    "def forgetting_time_from_ssim(split_1_sample_scores_by_epoch, dataset, thr=0.5):\n",
    "    forgetting_times = {}\n",
    "    forgetting_times_step = {}\n",
    "    \n",
    "    # Iterate over epochs\n",
    "    for epoch, scores in tqdm(enumerate(split_1_sample_scores_by_epoch), total=len(split_1_sample_scores_by_epoch)):\n",
    "        # Iterate over samples in the epoch\n",
    "\n",
    "        num_logs_per_epoch = len(scores) // len(dataset) - 1\n",
    "        steps_per_log = len(dataset) // num_logs_per_epoch\n",
    "\n",
    "        for step, (sample_idx, score) in enumerate(scores):\n",
    "            sample_idx = int(sample_idx)\n",
    "            log_step = step // len(dataset)\n",
    "\n",
    "            # reset not yet forgotten samples \n",
    "            if sample_idx not in forgetting_times or score > thr:\n",
    "                forgetting_times[sample_idx] = -1\n",
    "                forgetting_times_step[sample_idx] = -1\n",
    "    \n",
    "            if score < thr and forgetting_times[sample_idx] == -1:\n",
    "                forgetting_times[sample_idx] = epoch\n",
    "                forgetting_times_step[sample_idx] = (epoch*num_logs_per_epoch + log_step) * steps_per_log\n",
    "    return forgetting_times, forgetting_times_step\n",
    "\n",
    "def forgetting_time_from_mse(split_1_sample_scores_by_epoch, dataset, thr=0.65):\n",
    "    forgetting_times = {}\n",
    "    forgetting_times_step = {}\n",
    "    \n",
    "    # Iterate over epochs\n",
    "    for epoch, scores in tqdm(enumerate(split_1_sample_scores_by_epoch), total=len(split_1_sample_scores_by_epoch)):\n",
    "        # Iterate over samples in the epoch\n",
    "\n",
    "        num_logs_per_epoch = len(scores) // len(dataset) - 1\n",
    "        steps_per_log = len(dataset) // num_logs_per_epoch\n",
    "\n",
    "        for step, (sample_idx, score) in enumerate(scores):\n",
    "            sample_idx = int(sample_idx)\n",
    "            log_step = step // len(dataset)\n",
    "\n",
    "            # reset not yet forgotten samples \n",
    "            if sample_idx not in forgetting_times or score < thr:\n",
    "                forgetting_times[sample_idx] = -1\n",
    "                forgetting_times_step[sample_idx] = -1\n",
    "    \n",
    "            if score > thr and forgetting_times[sample_idx] == -1:\n",
    "                forgetting_times[sample_idx] = epoch\n",
    "                forgetting_times_step[sample_idx] = (epoch*num_logs_per_epoch + log_step) * steps_per_log\n",
    "    return forgetting_times, forgetting_times_step\n"
   ]
  },
  {
   "cell_type": "code",
   "execution_count": 204,
   "metadata": {},
   "outputs": [
    {
     "data": {
      "application/json": {
       "ascii": false,
       "bar_format": null,
       "colour": null,
       "elapsed": 0.005712270736694336,
       "initial": 0,
       "n": 0,
       "ncols": null,
       "nrows": 67,
       "postfix": null,
       "prefix": "",
       "rate": null,
       "total": 500,
       "unit": "it",
       "unit_divisor": 1000,
       "unit_scale": false
      },
      "application/vnd.jupyter.widget-view+json": {
       "model_id": "4dcf46215bb94ea9a5a1676379193518",
       "version_major": 2,
       "version_minor": 0
      },
      "text/plain": [
       "  0%|          | 0/500 [00:00<?, ?it/s]"
      ]
     },
     "metadata": {},
     "output_type": "display_data"
    },
    {
     "data": {
      "application/json": {
       "ascii": false,
       "bar_format": null,
       "colour": null,
       "elapsed": 0.005690574645996094,
       "initial": 0,
       "n": 0,
       "ncols": null,
       "nrows": 67,
       "postfix": null,
       "prefix": "",
       "rate": null,
       "total": 500,
       "unit": "it",
       "unit_divisor": 1000,
       "unit_scale": false
      },
      "application/vnd.jupyter.widget-view+json": {
       "model_id": "61be167fee0e462fa0e089941e59a55b",
       "version_major": 2,
       "version_minor": 0
      },
      "text/plain": [
       "  0%|          | 0/500 [00:00<?, ?it/s]"
      ]
     },
     "metadata": {},
     "output_type": "display_data"
    }
   ],
   "source": [
    "forgetting_times_ssim, fogetting_times_ssim_steps = forgetting_time_from_ssim(split_1_sample_ssim_by_epoch, split_1_ds, thr=0.5)\n",
    "forgetting_times_mse, fogetting_times_mse_steps = forgetting_time_from_mse(split_1_sample_mse_by_epoch, split_1_ds)"
   ]
  },
  {
   "cell_type": "code",
   "execution_count": 207,
   "metadata": {},
   "outputs": [],
   "source": [
    "split_1_forgetting_time_df = pd.DataFrame(\n",
    "    [(idx, fogetting_times_ssim_steps[idx], fogetting_times_mse_steps[idx]) for idx in fogetting_times_ssim_steps.keys()],\n",
    "    columns = ['sample_idx', 'ssim_forgetting_time', 'mse_forgetting_time']\n",
    ")"
   ]
  },
  {
   "cell_type": "markdown",
   "metadata": {},
   "source": [
    "# Analysis"
   ]
  },
  {
   "cell_type": "code",
   "execution_count": 240,
   "metadata": {},
   "outputs": [],
   "source": [
    "to_comp = 'ssim' # scores/preds\n",
    "ft_metric = f'{to_comp}_forgetting_time'\n",
    "lt_metric = f'{to_comp}_learning_time'\n",
    "\n",
    "curr_split_ds = split_1_ds\n",
    "\n",
    "metrics_df = pd.merge(split_1_metrics_df, split_1_forgetting_time_df, on='sample_idx')\n",
    "never_forgotten_thr = metrics_df[ft_metric].max() + 5000\n",
    "metrics_df.loc[metrics_df[ft_metric] == -1, ft_metric] = never_forgotten_thr + 5000"
   ]
  },
  {
   "cell_type": "code",
   "execution_count": 241,
   "metadata": {},
   "outputs": [],
   "source": [
    "shuffled_idx_2_original_idx = {i : x for i, x in enumerate(curr_split_ds.dataset.indices)}\n",
    "metrics_df['original_sample_idx'] = metrics_df.sample_idx.apply(lambda x: shuffled_idx_2_original_idx[x])"
   ]
  },
  {
   "cell_type": "code",
   "execution_count": 242,
   "metadata": {},
   "outputs": [],
   "source": [
    "# corrupted_indices = curr_split_ds.dataset.dataset.corrupted_indices\n",
    "corrupted_indices = list(curr_split_ds.dataset.dataset.dataset.dd_idxs_aug.keys())\n",
    "metrics_df['is_mislabeled'] = False\n",
    "metrics_df.loc[metrics_df.original_sample_idx.isin(corrupted_indices), 'is_mislabeled'] = True"
   ]
  },
  {
   "cell_type": "code",
   "execution_count": 243,
   "metadata": {},
   "outputs": [],
   "source": [
    "# metrics_df.to_csv('./cnn_225k_mnist_sup_metrics_split_2.csv', index=False)"
   ]
  },
  {
   "cell_type": "code",
   "execution_count": 244,
   "metadata": {},
   "outputs": [],
   "source": [
    "learning_time = metrics_df[lt_metric].values\n",
    "forgetting_time = metrics_df[ft_metric].values"
   ]
  },
  {
   "cell_type": "code",
   "execution_count": 245,
   "metadata": {},
   "outputs": [
    {
     "name": "stderr",
     "output_type": "stream",
     "text": [
      "No artists with labels found to put in legend.  Note that artists whose label start with an underscore are ignored when legend() is called with no argument.\n"
     ]
    },
    {
     "data": {
      "image/png": "[encoded data removed]",
      "text/plain": [
       "<Figure size 960x960 with 1 Axes>"
      ]
     },
     "metadata": {
      "needs_background": "light"
     },
     "output_type": "display_data"
    }
   ],
   "source": [
    "plt.figure(figsize=(8, 8), dpi=120)\n",
    "\n",
    "# plt.scatter(learning_time, forgetting_time,\n",
    "#             s=5)\n",
    "\n",
    "plt.scatter(learning_time[metrics_df[~metrics_df.is_mislabeled].index], forgetting_time[metrics_df[~metrics_df.is_mislabeled].index],\n",
    "            s=5, c='blue')\n",
    "plt.scatter(learning_time[metrics_df[metrics_df.is_mislabeled].index], forgetting_time[metrics_df[metrics_df.is_mislabeled].index],\n",
    "            s=5, c='r')\n",
    "\n",
    "plt.axhline(y=never_forgotten_thr, linestyle='dashed', c='red')\n",
    "plt.xlabel('Learning Time')\n",
    "plt.ylabel('Second Split Forgetting Time')\n",
    "plt.legend()\n",
    "plt.show()\n"
   ]
  },
  {
   "cell_type": "code",
   "execution_count": 148,
   "metadata": {},
   "outputs": [],
   "source": [
    "mislabeled_subset = metrics_df[(metrics_df[lt_metric] > 1.75e6) & (metrics_df[ft_metric] < 0.5e6)].sample_idx.values\n",
    "ambigious_subset = metrics_df[(metrics_df[lt_metric] < 0.5e6) & (metrics_df[ft_metric] < 0.5e6)].sample_idx.values\n",
    "typical_subset = metrics_df[(metrics_df[lt_metric] < 0.5e6) & (metrics_df[ft_metric] > 2.5e6)].sample_idx.values\n",
    "atypical_subset = metrics_df[(metrics_df[lt_metric] > 2e6) & (metrics_df[ft_metric] > 2.5e6)].sample_idx.values\n",
    "\n",
    "# split1_ds[2]"
   ]
  },
  {
   "cell_type": "code",
   "execution_count": 149,
   "metadata": {},
   "outputs": [
    {
     "data": {
      "image/png": "[encoded data removed]",
      "text/plain": [
       "<Figure size 864x864 with 16 Axes>"
      ]
     },
     "metadata": {
      "needs_background": "light"
     },
     "output_type": "display_data"
    }
   ],
   "source": [
    "subset = ambigious_subset\n",
    "# subset = [3845, 55894]\n",
    "\n",
    "fig, ax = plt.subplots(4, 4, figsize=(12, 12))\n",
    "ax = ax.ravel()\n",
    "\n",
    "for i in range(len(subset)):\n",
    "    if i >= 16:\n",
    "        break\n",
    "    \n",
    "    idx = subset[i]\n",
    "    \n",
    "    unnormalize = lambda x: x*0.3081 + 0.1307\n",
    "    \n",
    "    _, img, label = curr_split_ds[idx]\n",
    "    np_img = (unnormalize(img.squeeze().numpy())*255).astype(int)\n",
    "\n",
    "    ax[i].imshow(np_img, cmap='gray')\n",
    "    ax[i].set_title(label)"
   ]
  },
  {
   "cell_type": "markdown",
   "metadata": {},
   "source": [
    "# Classification"
   ]
  },
  {
   "cell_type": "code",
   "execution_count": 176,
   "metadata": {},
   "outputs": [],
   "source": [
    "m1 = pd.read_csv('./cnn_225k_mnist_sup_metrics.csv')\n",
    "m2 = pd.read_csv('./cnn_225k_mnist_sup_metrics_split_2.csv')"
   ]
  },
  {
   "cell_type": "code",
   "execution_count": 177,
   "metadata": {},
   "outputs": [],
   "source": [
    "m = pd.concat([m1, m2]).reset_index()"
   ]
  },
  {
   "cell_type": "code",
   "execution_count": 178,
   "metadata": {},
   "outputs": [
    {
     "name": "stderr",
     "output_type": "stream",
     "text": [
      "No artists with labels found to put in legend.  Note that artists whose label start with an underscore are ignored when legend() is called with no argument.\n"
     ]
    },
    {
     "data": {
      "image/png": "[encoded data removed]",
      "text/plain": [
       "<Figure size 960x960 with 1 Axes>"
      ]
     },
     "metadata": {
      "needs_background": "light"
     },
     "output_type": "display_data"
    }
   ],
   "source": [
    "learning_time = m[lt_metric]\n",
    "forgetting_time = m[ft_metric]\n",
    "df = m\n",
    "\n",
    "plt.figure(figsize=(8, 8), dpi=120)\n",
    "plt.scatter(learning_time[df[~df.is_mislabeled].index], forgetting_time[df[~df.is_mislabeled].index],\n",
    "            s=5, c='blue')\n",
    "plt.scatter(learning_time[df[df.is_mislabeled].index], forgetting_time[df[df.is_mislabeled].index],\n",
    "            s=5, c='r')\n",
    "plt.axhline(y=never_forgotten_thr, linestyle='dashed', c='red')\n",
    "plt.xlabel('Learning Time')\n",
    "plt.ylabel('Second Split Forgetting Time')\n",
    "plt.legend()\n",
    "plt.show()\n"
   ]
  },
  {
   "cell_type": "code",
   "execution_count": 182,
   "metadata": {},
   "outputs": [],
   "source": [
    "df['prediction'] = 'none'\n",
    "df.loc[(df[lt_metric] > 1.25e6) & (df[ft_metric] < 1.5e6), 'prediction'] = 'mislabeled'\n",
    "df.loc[(df[lt_metric] < 1.25e6) & (df[ft_metric] < 1.5e6), 'prediction'] = 'ambigious'\n",
    "df.loc[(df[lt_metric] < 1.25e6) & (df[ft_metric] > 1.5e6), 'prediction'] = 'typical'\n",
    "df.loc[(df[lt_metric] > 1.25e6) & (df[ft_metric] > 1.5e6), 'prediction'] = 'atypical'"
   ]
  },
  {
   "cell_type": "code",
   "execution_count": 202,
   "metadata": {},
   "outputs": [
    {
     "data": {
      "text/plain": [
       "False    70\n",
       "True     59\n",
       "Name: is_mislabeled, dtype: int64"
      ]
     },
     "execution_count": 202,
     "metadata": {},
     "output_type": "execute_result"
    }
   ],
   "source": [
    "df[df.prediction == 'mislabeled'].is_mislabeled.value_counts()"
   ]
  },
  {
   "cell_type": "code",
   "execution_count": 194,
   "metadata": {},
   "outputs": [
    {
     "data": {
      "text/html": [
       "<div>\n",
       "<style scoped>\n",
       "    .dataframe tbody tr th:only-of-type {\n",
       "        vertical-align: middle;\n",
       "    }\n",
       "\n",
       "    .dataframe tbody tr th {\n",
       "        vertical-align: top;\n",
       "    }\n",
       "\n",
       "    .dataframe thead th {\n",
       "        text-align: right;\n",
       "    }\n",
       "</style>\n",
       "<table border=\"1\" class=\"dataframe\">\n",
       "  <thead>\n",
       "    <tr style=\"text-align: right;\">\n",
       "      <th></th>\n",
       "      <th>index</th>\n",
       "      <th>sample_idx</th>\n",
       "      <th>scores_learning_time</th>\n",
       "      <th>preds_learning_time</th>\n",
       "      <th>scores_forgetting_time</th>\n",
       "      <th>preds_forgetting_time</th>\n",
       "      <th>original_sample_idx</th>\n",
       "      <th>is_mislabeled</th>\n",
       "      <th>prediction</th>\n",
       "    </tr>\n",
       "  </thead>\n",
       "  <tbody>\n",
       "    <tr>\n",
       "      <th>0</th>\n",
       "      <td>0</td>\n",
       "      <td>26028</td>\n",
       "      <td>59367</td>\n",
       "      <td>59367</td>\n",
       "      <td>3010000</td>\n",
       "      <td>-1</td>\n",
       "      <td>39689</td>\n",
       "      <td>False</td>\n",
       "      <td>typical</td>\n",
       "    </tr>\n",
       "    <tr>\n",
       "      <th>1</th>\n",
       "      <td>1</td>\n",
       "      <td>6792</td>\n",
       "      <td>34998</td>\n",
       "      <td>34998</td>\n",
       "      <td>3010000</td>\n",
       "      <td>-1</td>\n",
       "      <td>28623</td>\n",
       "      <td>False</td>\n",
       "      <td>typical</td>\n",
       "    </tr>\n",
       "    <tr>\n",
       "      <th>2</th>\n",
       "      <td>2</td>\n",
       "      <td>2966</td>\n",
       "      <td>32257</td>\n",
       "      <td>32257</td>\n",
       "      <td>3010000</td>\n",
       "      <td>-1</td>\n",
       "      <td>58165</td>\n",
       "      <td>False</td>\n",
       "      <td>typical</td>\n",
       "    </tr>\n",
       "    <tr>\n",
       "      <th>3</th>\n",
       "      <td>3</td>\n",
       "      <td>27994</td>\n",
       "      <td>36990</td>\n",
       "      <td>3</td>\n",
       "      <td>3010000</td>\n",
       "      <td>-1</td>\n",
       "      <td>15180</td>\n",
       "      <td>False</td>\n",
       "      <td>typical</td>\n",
       "    </tr>\n",
       "    <tr>\n",
       "      <th>4</th>\n",
       "      <td>4</td>\n",
       "      <td>13494</td>\n",
       "      <td>47702</td>\n",
       "      <td>47702</td>\n",
       "      <td>3010000</td>\n",
       "      <td>-1</td>\n",
       "      <td>29298</td>\n",
       "      <td>False</td>\n",
       "      <td>typical</td>\n",
       "    </tr>\n",
       "    <tr>\n",
       "      <th>...</th>\n",
       "      <td>...</td>\n",
       "      <td>...</td>\n",
       "      <td>...</td>\n",
       "      <td>...</td>\n",
       "      <td>...</td>\n",
       "      <td>...</td>\n",
       "      <td>...</td>\n",
       "      <td>...</td>\n",
       "      <td>...</td>\n",
       "    </tr>\n",
       "    <tr>\n",
       "      <th>59995</th>\n",
       "      <td>29995</td>\n",
       "      <td>21594</td>\n",
       "      <td>29995</td>\n",
       "      <td>-1</td>\n",
       "      <td>3010000</td>\n",
       "      <td>0</td>\n",
       "      <td>9761</td>\n",
       "      <td>False</td>\n",
       "      <td>typical</td>\n",
       "    </tr>\n",
       "    <tr>\n",
       "      <th>59996</th>\n",
       "      <td>29996</td>\n",
       "      <td>14195</td>\n",
       "      <td>29996</td>\n",
       "      <td>-1</td>\n",
       "      <td>3010000</td>\n",
       "      <td>0</td>\n",
       "      <td>41028</td>\n",
       "      <td>False</td>\n",
       "      <td>typical</td>\n",
       "    </tr>\n",
       "    <tr>\n",
       "      <th>59997</th>\n",
       "      <td>29997</td>\n",
       "      <td>14053</td>\n",
       "      <td>29997</td>\n",
       "      <td>-1</td>\n",
       "      <td>3010000</td>\n",
       "      <td>0</td>\n",
       "      <td>3277</td>\n",
       "      <td>False</td>\n",
       "      <td>typical</td>\n",
       "    </tr>\n",
       "    <tr>\n",
       "      <th>59998</th>\n",
       "      <td>29998</td>\n",
       "      <td>22408</td>\n",
       "      <td>29998</td>\n",
       "      <td>-1</td>\n",
       "      <td>3010000</td>\n",
       "      <td>0</td>\n",
       "      <td>51903</td>\n",
       "      <td>False</td>\n",
       "      <td>typical</td>\n",
       "    </tr>\n",
       "    <tr>\n",
       "      <th>59999</th>\n",
       "      <td>29999</td>\n",
       "      <td>3029</td>\n",
       "      <td>29999</td>\n",
       "      <td>-1</td>\n",
       "      <td>3010000</td>\n",
       "      <td>0</td>\n",
       "      <td>10465</td>\n",
       "      <td>False</td>\n",
       "      <td>typical</td>\n",
       "    </tr>\n",
       "  </tbody>\n",
       "</table>\n",
       "<p>60000 rows × 9 columns</p>\n",
       "</div>"
      ],
      "text/plain": [
       "       index  sample_idx  scores_learning_time  preds_learning_time  \\\n",
       "0          0       26028                 59367                59367   \n",
       "1          1        6792                 34998                34998   \n",
       "2          2        2966                 32257                32257   \n",
       "3          3       27994                 36990                    3   \n",
       "4          4       13494                 47702                47702   \n",
       "...      ...         ...                   ...                  ...   \n",
       "59995  29995       21594                 29995                   -1   \n",
       "59996  29996       14195                 29996                   -1   \n",
       "59997  29997       14053                 29997                   -1   \n",
       "59998  29998       22408                 29998                   -1   \n",
       "59999  29999        3029                 29999                   -1   \n",
       "\n",
       "       scores_forgetting_time  preds_forgetting_time  original_sample_idx  \\\n",
       "0                     3010000                     -1                39689   \n",
       "1                     3010000                     -1                28623   \n",
       "2                     3010000                     -1                58165   \n",
       "3                     3010000                     -1                15180   \n",
       "4                     3010000                     -1                29298   \n",
       "...                       ...                    ...                  ...   \n",
       "59995                 3010000                      0                 9761   \n",
       "59996                 3010000                      0                41028   \n",
       "59997                 3010000                      0                 3277   \n",
       "59998                 3010000                      0                51903   \n",
       "59999                 3010000                      0                10465   \n",
       "\n",
       "       is_mislabeled prediction  \n",
       "0              False    typical  \n",
       "1              False    typical  \n",
       "2              False    typical  \n",
       "3              False    typical  \n",
       "4              False    typical  \n",
       "...              ...        ...  \n",
       "59995          False    typical  \n",
       "59996          False    typical  \n",
       "59997          False    typical  \n",
       "59998          False    typical  \n",
       "59999          False    typical  \n",
       "\n",
       "[60000 rows x 9 columns]"
      ]
     },
     "execution_count": 194,
     "metadata": {},
     "output_type": "execute_result"
    }
   ],
   "source": [
    "df"
   ]
  },
  {
   "cell_type": "code",
   "execution_count": 192,
   "metadata": {},
   "outputs": [],
   "source": [
    "df.to_csv('./cnn225k_mnist_sup_both_splits.csv', index=False)"
   ]
  },
  {
   "cell_type": "markdown",
   "metadata": {},
   "source": [
    "# TODO"
   ]
  },
  {
   "cell_type": "markdown",
   "metadata": {},
   "source": [
    "1. Syntetic label flips\n",
    "2. Сложить картинки и получить зашумленные картинки\n",
    "3. Посмотреть корреляции с метриками\n",
    "4. Уменьшить LR –> больше шагов/деталей\n",
    "5. Подумать над другими метриками\n",
    "6. Далее посмотреть на корреляцию с другими методами выделения аутлаеров"
   ]
  },
  {
   "cell_type": "code",
   "execution_count": null,
   "metadata": {},
   "outputs": [],
   "source": []
  }
 ],
 "metadata": {
  "kernelspec": {
   "display_name": "Python 3 (ipykernel)",
   "language": "python",
   "name": "python3"
  },
  "language_info": {
   "codemirror_mode": {
    "name": "ipython",
    "version": 3
   },
   "file_extension": ".py",
   "mimetype": "text/x-python",
   "name": "python",
   "nbconvert_exporter": "python",
   "pygments_lexer": "ipython3",
   "version": "3.9.12"
  }
 },
 "nbformat": 4,
 "nbformat_minor": 4
}
