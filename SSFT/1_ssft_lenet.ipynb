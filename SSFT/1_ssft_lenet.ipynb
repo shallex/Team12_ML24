{
 "cells": [
  {
   "cell_type": "code",
   "execution_count": 76,
   "metadata": {},
   "outputs": [],
   "source": [
    "import torch\n",
    "import torchvision\n",
    "\n",
    "import torch.nn as nn\n",
    "import torch.nn.functional as F\n",
    "import torch.optim as optim\n",
    "from copy import deepcopy\n",
    "import pandas as pd\n",
    "import matplotlib.pyplot as plt\n",
    "from torchinfo import summary\n",
    "\n",
    "import numpy as np"
   ]
  },
  {
   "cell_type": "code",
   "execution_count": 2,
   "metadata": {},
   "outputs": [],
   "source": [
    "DEVICE = 'cuda:1'\n",
    "\n",
    "SEED = 0\n",
    "\n",
    "torch.backends.cudnn.enabled = False\n",
    "torch.manual_seed(SEED)\n",
    "np.random.seed(SEED)"
   ]
  },
  {
   "cell_type": "markdown",
   "metadata": {},
   "source": [
    "# Data"
   ]
  },
  {
   "cell_type": "code",
   "execution_count": 3,
   "metadata": {},
   "outputs": [],
   "source": [
    "class IndexDataset(torch.utils.data.Dataset):\n",
    "    \"\"\"\n",
    "    Simple wrapper to get the index of each element in the original dataset\n",
    "    \"\"\"\n",
    "    \n",
    "    def __init__(self, dataset : torch.utils.data.Dataset):\n",
    "        \"\"\"\n",
    "        Initialization.\n",
    "        \n",
    "        Parameters\n",
    "        ----------\n",
    "        dataset\n",
    "            The dataset which to wrap.\n",
    "        \"\"\"\n",
    "        \n",
    "        self.dataset = dataset\n",
    "\n",
    "    def __len__(self):\n",
    "        return len(self.dataset)\n",
    "    \n",
    "    def __getitem__(self, index):\n",
    "        outs = self.dataset[index]\n",
    "        return index, *outs \n",
    "\n",
    "class CorruptedDataset(torch.utils.data.Dataset):\n",
    "    \"\"\"\n",
    "    Simple wrapper to get the index of each element in the original dataset\n",
    "    \"\"\"\n",
    "    \n",
    "    def __init__(self, dataset : torch.utils.data.Dataset, mislabeled_ratio : float, random_state : int = 42):\n",
    "        \"\"\"\n",
    "        Initialization.\n",
    "        \n",
    "        Parameters\n",
    "        ----------\n",
    "        dataset\n",
    "            The dataset which to corrupt\n",
    "        mislabeled_ratio\n",
    "            Fraction of samples which to corrupt\n",
    "        \"\"\"\n",
    "        \n",
    "        self.dataset = dataset\n",
    "        self.labels = self.dataset.targets.numpy()\n",
    "        unique_labels = np.unique(self.labels)\n",
    "\n",
    "        rng = np.random.default_rng(seed=random_state)\n",
    "        self.corrupted_indices = rng.choice(np.arange(len(self.labels)), \n",
    "                                                  size=int(mislabeled_ratio*len(self.labels)),\n",
    "                                                  replace=False)\n",
    "        for i in self.corrupted_indices:\n",
    "            label = self.labels[i]\n",
    "            pool = list(unique_labels)\n",
    "            pool.remove(label)\n",
    "            self.labels[i] = pool[np.random.randint(len(pool))]\n",
    "\n",
    "    def __len__(self):\n",
    "        return len(self.dataset)\n",
    "    \n",
    "    def __getitem__(self, index):\n",
    "        x, _ = self.dataset[index]\n",
    "        \n",
    "        return x, self.labels[index]"
   ]
  },
  {
   "cell_type": "code",
   "execution_count": 4,
   "metadata": {
    "scrolled": false
   },
   "outputs": [],
   "source": [
    "batch_size_train = 128\n",
    "batch_size_test = 1000\n",
    "\n",
    "train_transforms = torchvision.transforms.Compose([\n",
    "    torchvision.transforms.ToTensor(),\n",
    "    torchvision.transforms.Normalize((0.1307,), (0.3081,))\n",
    "])\n",
    "\n",
    "test_transforms = torchvision.transforms.Compose([\n",
    "    torchvision.transforms.ToTensor(),\n",
    "    torchvision.transforms.Normalize((0.1307,), (0.3081,))\n",
    "])\n",
    "\n",
    "train_ds = CorruptedDataset(\n",
    "    torchvision.datasets.MNIST('./files/', train=True, download=True, transform=train_transforms), \n",
    "    mislabeled_ratio=0.001,\n",
    "    random_state=SEED\n",
    ")\n",
    "test_ds = torchvision.datasets.MNIST('./files/', train=False, download=True, transform=test_transforms)\n",
    "\n",
    "split_1_ds, split_2_ds = torch.utils.data.random_split(train_ds, [len(train_ds) // 2]*2)\n",
    "split_1_ds = IndexDataset(split_1_ds)\n",
    "split_2_ds = IndexDataset(split_2_ds)\n",
    "\n",
    "# train_loader = torch.utils.data.DataLoader(train_ds, batch_size=batch_size_train, shuffle=True)\n",
    "\n",
    "split1_loader = torch.utils.data.DataLoader(split_1_ds, batch_size=batch_size_train, shuffle=True)\n",
    "split2_loader = torch.utils.data.DataLoader(split_2_ds, batch_size=batch_size_train, shuffle=True)\n",
    "\n",
    "test_loader = torch.utils.data.DataLoader(test_ds, batch_size=batch_size_test, shuffle=False)"
   ]
  },
  {
   "cell_type": "markdown",
   "metadata": {},
   "source": [
    "# Build Network"
   ]
  },
  {
   "cell_type": "code",
   "execution_count": 5,
   "metadata": {},
   "outputs": [],
   "source": [
    "class CNN(nn.Module):\n",
    "    def __init__(self, in_channels=3, num_classes=10):\n",
    "        super(CNN, self).__init__()\n",
    "        self.features = nn.Sequential(\n",
    "            nn.Conv2d(in_channels, 32, 3),\n",
    "            nn.ReLU(),\n",
    "            nn.BatchNorm2d(32),\n",
    "            nn.MaxPool2d(2),\n",
    "            \n",
    "            nn.Conv2d(32, 64, 3),\n",
    "            nn.ReLU(),\n",
    "            nn.BatchNorm2d(64),\n",
    "            nn.MaxPool2d(2),\n",
    "        )\n",
    "        self.classifier = nn.Sequential(\n",
    "            nn.Flatten(),\n",
    "            nn.Linear(1600, 128),\n",
    "            nn.ReLU(),\n",
    "            \n",
    "            nn.Linear(128, num_classes)\n",
    "        )\n",
    "\n",
    "    def forward(self, x):\n",
    "\n",
    "        feats = self.features(x)\n",
    "        logits = self.classifier(feats)\n",
    "        \n",
    "        return logits\n"
   ]
  },
  {
   "cell_type": "code",
   "execution_count": 6,
   "metadata": {},
   "outputs": [],
   "source": [
    "class Net(nn.Module):\n",
    "    def __init__(self):\n",
    "        super(Net, self).__init__()\n",
    "        self.conv1 = nn.Conv2d(1, 10, kernel_size=5)\n",
    "        self.conv2 = nn.Conv2d(10, 20, kernel_size=5)\n",
    "        self.conv2_drop = nn.Dropout2d()\n",
    "        self.fc1 = nn.Linear(320, 50)\n",
    "        self.fc2 = nn.Linear(50, 10)\n",
    "\n",
    "    def forward(self, x):\n",
    "        x = F.relu(F.max_pool2d(self.conv1(x), 2))\n",
    "        x = F.relu(F.max_pool2d(self.conv2_drop(self.conv2(x)), 2))\n",
    "        x = x.view(-1, 320)\n",
    "        x = F.relu(self.fc1(x))\n",
    "        x = F.dropout(x, training=self.training)\n",
    "        x = self.fc2(x)\n",
    "        return x"
   ]
  },
  {
   "cell_type": "markdown",
   "metadata": {},
   "source": [
    "# Training model"
   ]
  },
  {
   "cell_type": "code",
   "execution_count": 7,
   "metadata": {},
   "outputs": [],
   "source": [
    "def log_sample_clf_scores(logits, target, sample_idx, sample_score_list):\n",
    "    '''\n",
    "        Append score of GT class to sample_score_list\n",
    "    '''\n",
    "    output_scores = F.softmax(logits.detach(), dim=-1).cpu()\n",
    "    gt_scores = output_scores[:, target].diag()\n",
    "    gt_scores = gt_scores.numpy()\n",
    "    sample_score = np.hstack([sample_idx.numpy().reshape(-1, 1), gt_scores.reshape(-1, 1)])\n",
    "    sample_score_list.append(sample_score)\n",
    "    return sample_score_list\n",
    "\n",
    "def log_predictions(logits, target, sample_idx, sample_pred_list):\n",
    "    output_preds = F.softmax(logits.detach(), dim=-1).argmax(dim=-1).cpu().numpy()\n",
    "    sample_preds = np.hstack([sample_idx.numpy().reshape(-1, 1), output_preds.reshape(-1, 1)])\n",
    "    sample_pred_list.append(sample_preds)\n",
    "    return sample_pred_list\n",
    "\n",
    "def train(model, epoch, train_loader, loss_fn, log_loader=None, log_step_rel=1.0):\n",
    "    model.train()\n",
    "    sample_scores = []\n",
    "    sample_preds = []\n",
    "    train_losses = []\n",
    "    train_accs = []\n",
    "\n",
    "    if log_loader is None:\n",
    "        log_loader = train_loader\n",
    "        log_step = None\n",
    "    else:\n",
    "        log_step = int(log_step_rel * len(train_loader))\n",
    "\n",
    "    for step, (sample_idx, data, target) in enumerate(train_loader):\n",
    "        optimizer.zero_grad()\n",
    "        logits = model(data.to(DEVICE))\n",
    "        loss = loss_fn(logits, target.to(DEVICE))\n",
    "        loss.backward()\n",
    "        optimizer.step()\n",
    "\n",
    "        ### sample_scores calculation\n",
    "        if log_step is None:\n",
    "            log_sample_clf_scores(logits, target, sample_idx, sample_scores)\n",
    "            log_predictions(logits, target, sample_idx, sample_preds)\n",
    "        elif step % log_step == 0:\n",
    "            scores_log, preds_log = test(model, log_loader)\n",
    "            sample_scores.append(scores_log)\n",
    "            sample_preds.append(preds_log)\n",
    "            model.train()\n",
    "\n",
    "        output_scores = F.softmax(logits.detach(), dim=-1).cpu()\n",
    "        accuracy = (output_scores.argmax(dim=1) == target).sum() / target.shape[0]\n",
    "        \n",
    "        train_accs.append(accuracy.item())\n",
    "        train_losses.append(loss.item())\n",
    "    \n",
    "    sample_scores = np.vstack(sample_scores)\n",
    "    sample_preds = np.vstack(sample_preds)\n",
    "    \n",
    "    return train_losses, train_accs, sample_scores, sample_preds"
   ]
  },
  {
   "cell_type": "code",
   "execution_count": 8,
   "metadata": {},
   "outputs": [],
   "source": [
    "def test(model, test_loader):\n",
    "    model.eval()\n",
    "    sample_scores = []\n",
    "    sample_preds = []\n",
    "    \n",
    "    with torch.no_grad():\n",
    "        for sample_idx, data, target in test_loader:\n",
    "            logits = model(data.to(DEVICE))\n",
    "\n",
    "            log_sample_clf_scores(logits, target, sample_idx, sample_scores)\n",
    "            log_predictions(logits, target, sample_idx, sample_preds)\n",
    "\n",
    "    sample_scores = np.vstack(sample_scores)\n",
    "    sample_preds = np.vstack(sample_preds)\n",
    "    \n",
    "    return sample_scores, sample_preds"
   ]
  },
  {
   "cell_type": "code",
   "execution_count": 11,
   "metadata": {},
   "outputs": [],
   "source": [
    "def LeNet(NUM_CLASSES = 10, in_channels = 1):\n",
    "    return nn.Sequential(\n",
    "                nn.Conv2d(in_channels, 32, 5, padding = 2), \n",
    "                nn.ReLU(), \n",
    "                nn.MaxPool2d(2, 2), \n",
    "                nn.Conv2d(32, 64, 5, padding = 2), \n",
    "                nn.ReLU(), \n",
    "                nn.MaxPool2d(2, 2), \n",
    "                nn.Flatten(), \n",
    "                nn.Linear(7*7*64, 1024), \n",
    "                nn.ReLU(), \n",
    "                nn.Linear(1024, NUM_CLASSES)\n",
    "        )"
   ]
  },
  {
   "cell_type": "markdown",
   "metadata": {},
   "source": [
    "# SSFT"
   ]
  },
  {
   "cell_type": "markdown",
   "metadata": {},
   "source": [
    "### First Split Training"
   ]
  },
  {
   "cell_type": "code",
   "execution_count": 52,
   "metadata": {},
   "outputs": [],
   "source": [
    "learning_rate = 1e-1\n",
    "loss_fn = nn.CrossEntropyLoss()\n",
    "n_epochs = 100\n",
    "\n",
    "# lenet, sgd momentum 0.9, weight_decay 5e-4, cyclic LR with peak lr 0.01 (preferable) or 0.1; peak at 10th epoch\n",
    "# train at max 100 epochs; stop training when 5 epochs with a 100% accuracy in a row\n",
    "# EMNIST ? \n",
    "# https://github.com/pratyushmaini/ssft\n",
    "\n",
    "model = LeNet().to(DEVICE)\n",
    "optimizer = optim.SGD(model.parameters(), lr=learning_rate, momentum=0.9, weight_decay=5e-4)"
   ]
  },
  {
   "cell_type": "code",
   "execution_count": null,
   "metadata": {},
   "outputs": [
    {
     "data": {
      "application/json": {
       "ascii": false,
       "bar_format": null,
       "colour": null,
       "elapsed": 0.004797220230102539,
       "initial": 0,
       "n": 0,
       "ncols": null,
       "nrows": 67,
       "postfix": null,
       "prefix": "",
       "rate": null,
       "total": 100,
       "unit": "it",
       "unit_divisor": 1000,
       "unit_scale": false
      },
      "application/vnd.jupyter.widget-view+json": {
       "model_id": "af84363ac82a494eb4eb16e9ae5a9414",
       "version_major": 2,
       "version_minor": 0
      },
      "text/plain": [
       "  0%|          | 0/100 [00:00<?, ?it/s]"
      ]
     },
     "metadata": {},
     "output_type": "display_data"
    }
   ],
   "source": [
    "from tqdm.auto import tqdm\n",
    "\n",
    "\n",
    "sample_scores_by_epoch = []\n",
    "sample_preds_by_epoch = []\n",
    "train_losses = []\n",
    "train_accs = []\n",
    "\n",
    "for epoch in tqdm(range(1, n_epochs + 1)):\n",
    "    losses, accs, sample_scores, sample_preds = train(model, epoch, split1_loader, loss_fn)\n",
    "    \n",
    "    train_losses.append(losses)\n",
    "    train_accs.append(accs)\n",
    "    sample_scores_by_epoch.append(sample_scores)\n",
    "    sample_preds_by_epoch.append(sample_preds)"
   ]
  },
  {
   "cell_type": "code",
   "execution_count": null,
   "metadata": {},
   "outputs": [],
   "source": [
    "step_losses = np.concatenate(train_losses)\n",
    "step_accs = np.concatenate(train_accs)\n",
    "\n",
    "epoch_losses = np.mean(train_losses, axis=1)\n",
    "epoch_accs = np.mean(train_accs, axis=1)"
   ]
  },
  {
   "cell_type": "code",
   "execution_count": null,
   "metadata": {},
   "outputs": [],
   "source": [
    "plt.figure(figsize=(16, 9))\n",
    "plt.plot(epoch_accs, color='red', label='Train accuracy')\n",
    "plt.axhline(1)\n",
    "plt.grid()\n",
    "plt.legend()"
   ]
  },
  {
   "cell_type": "markdown",
   "metadata": {},
   "source": [
    "### Learning time"
   ]
  },
  {
   "cell_type": "code",
   "execution_count": null,
   "metadata": {},
   "outputs": [],
   "source": [
    "def learning_time_from_scores(sample_scores_by_epoch, thr=0.5):\n",
    "    learning_times = {}\n",
    "    learning_times_step = {}\n",
    "    \n",
    "    # Iterate over epochs\n",
    "    for epoch, scores in tqdm(enumerate(sample_scores_by_epoch), total=len(sample_scores_by_epoch)):\n",
    "        # Iterate over samples in the epoch\n",
    "        for step, (sample_idx, score) in enumerate(scores):\n",
    "            sample_idx = int(sample_idx)\n",
    "            \n",
    "            # reset not yet learnt or forgotten samples \n",
    "            if sample_idx not in learning_times or score < thr:\n",
    "                learning_times[sample_idx] = -1\n",
    "                learning_times_step[sample_idx] = -1\n",
    "    \n",
    "            if score > thr and learning_times[sample_idx] == -1:\n",
    "                learning_times[sample_idx] = epoch\n",
    "                learning_times_step[sample_idx] = epoch*len(scores) + step\n",
    "\n",
    "    return learning_times, learning_times_step\n",
    "\n",
    "def learning_time_from_preds(sample_preds_by_epoch, dataset):\n",
    "    learning_times = {}\n",
    "    learning_times_step = {}\n",
    "    \n",
    "    # Iterate over epochs\n",
    "    for epoch, scores in tqdm(enumerate(sample_preds_by_epoch), total=len(sample_preds_by_epoch)):\n",
    "        # Iterate over samples in the epoch\n",
    "        for step, (sample_idx, pred) in enumerate(scores):\n",
    "            sample_idx = int(sample_idx)\n",
    "            _, _, gt = dataset[sample_idx]\n",
    "#             gt = dataset.dataset.dataset.labels[sample_idx]\n",
    "            \n",
    "            # reset not yet learnt or forgotten samples \n",
    "            if sample_idx not in learning_times or pred != gt:\n",
    "                learning_times[sample_idx] = -1\n",
    "                learning_times_step[sample_idx] = -1\n",
    "    \n",
    "            if pred == gt and learning_times[sample_idx] == -1:\n",
    "                learning_times[sample_idx] = epoch\n",
    "                learning_times_step[sample_idx] = epoch*len(scores) + step\n",
    "\n",
    "    return learning_times, learning_times_step"
   ]
  },
  {
   "cell_type": "code",
   "execution_count": null,
   "metadata": {},
   "outputs": [],
   "source": [
    "scores_learning_times, scores_learning_times_step = learning_time_from_scores(sample_scores_by_epoch, thr=0.5)\n",
    "preds_learning_times, preds_learning_times_step = learning_time_from_preds(sample_preds_by_epoch, split_1_ds)"
   ]
  },
  {
   "cell_type": "code",
   "execution_count": null,
   "metadata": {},
   "outputs": [],
   "source": [
    "split_1_metrics_df = pd.DataFrame(\n",
    "    [(idx, scores_learning_times_step[idx], preds_learning_times_step[idx]) for idx in scores_learning_times_step.keys()],\n",
    "    columns = ['sample_idx', 'scores_learning_time', 'preds_learning_time']\n",
    ")"
   ]
  },
  {
   "cell_type": "markdown",
   "metadata": {},
   "source": [
    "# Second Split training"
   ]
  },
  {
   "cell_type": "code",
   "execution_count": null,
   "metadata": {},
   "outputs": [],
   "source": [
    "from tqdm.auto import tqdm\n",
    "\n",
    "n_epochs = 100\n",
    "\n",
    "split_1_sample_scores_by_epoch = []\n",
    "split_1_sample_preds_by_epoch = []\n",
    "train_losses = []\n",
    "train_accs = []\n",
    "\n",
    "for epoch in tqdm(range(1, n_epochs + 1)):\n",
    "    losses, accs, sample_scores, sample_preds = train(model, epoch, split2_loader, loss_fn, \n",
    "                                                      log_loader=split1_loader, log_step_rel=0.25)\n",
    "\n",
    "    train_losses.append(losses)\n",
    "    train_accs.append(accs)\n",
    "    split_1_sample_scores_by_epoch.append(sample_scores)\n",
    "    split_1_sample_preds_by_epoch.append(sample_preds)"
   ]
  },
  {
   "cell_type": "code",
   "execution_count": null,
   "metadata": {},
   "outputs": [],
   "source": [
    "step_losses = np.concatenate(train_losses)\n",
    "step_accs = np.concatenate(train_accs)\n",
    "\n",
    "epoch_losses = np.mean(train_losses, axis=1)\n",
    "epoch_accs = np.mean(train_accs, axis=1)"
   ]
  },
  {
   "cell_type": "code",
   "execution_count": 69,
   "metadata": {},
   "outputs": [
    {
     "data": {
      "text/plain": [
       "<matplotlib.legend.Legend at 0x7f34a1450550>"
      ]
     },
     "execution_count": 69,
     "metadata": {},
     "output_type": "execute_result"
    },
    {
     "data": {
      "image/png": "[encoded data removed]",
      "text/plain": [
       "<Figure size 1152x648 with 1 Axes>"
      ]
     },
     "metadata": {
      "needs_background": "light"
     },
     "output_type": "display_data"
    }
   ],
   "source": [
    "plt.figure(figsize=(16, 9))\n",
    "plt.plot(epoch_accs, color='red', label='Train accuracy')\n",
    "plt.axhline(1)\n",
    "plt.grid()\n",
    "plt.legend()"
   ]
  },
  {
   "cell_type": "markdown",
   "metadata": {},
   "source": [
    "### Forgetting Time"
   ]
  },
  {
   "cell_type": "code",
   "execution_count": null,
   "metadata": {},
   "outputs": [],
   "source": [
    "def forgetting_time_from_scores(split_1_sample_scores_by_epoch, dataset, thr=0.5):\n",
    "    forgetting_times = {}\n",
    "    forgetting_times_step = {}\n",
    "    \n",
    "    # Iterate over epochs\n",
    "    for epoch, scores in tqdm(enumerate(split_1_sample_scores_by_epoch), total=len(split_1_sample_scores_by_epoch)):\n",
    "        # Iterate over samples in the epoch\n",
    "\n",
    "        num_logs_per_epoch = len(scores) // len(dataset) - 1\n",
    "        steps_per_log = len(dataset) // num_logs_per_epoch\n",
    "\n",
    "        for step, (sample_idx, score) in enumerate(scores):\n",
    "            sample_idx = int(sample_idx)\n",
    "            log_step = step // len(dataset)\n",
    "\n",
    "            # reset not yet forgotten samples \n",
    "            if sample_idx not in forgetting_times or score > thr:\n",
    "                forgetting_times[sample_idx] = -1\n",
    "                forgetting_times_step[sample_idx] = -1\n",
    "    \n",
    "            if score < thr and forgetting_times[sample_idx] == -1:\n",
    "                forgetting_times[sample_idx] = epoch\n",
    "                forgetting_times_step[sample_idx] = (epoch*num_logs_per_epoch + log_step) * steps_per_log\n",
    "    return forgetting_times, forgetting_times_step\n",
    "\n",
    "def forgetting_time_from_preds(split_1_sample_preds_by_epoch, dataset):\n",
    "    forgetting_times = {}\n",
    "    forgetting_times_step = {}\n",
    "    \n",
    "    # Iterate over epochs\n",
    "    for epoch, scores in tqdm(enumerate(split_1_sample_preds_by_epoch), total=len(split_1_sample_preds_by_epoch)):\n",
    "        # Iterate over samples in the epoch\n",
    "\n",
    "        num_logs_per_epoch = len(scores) // len(dataset) - 1\n",
    "        steps_per_log = len(dataset) // num_logs_per_epoch\n",
    "\n",
    "        for step, (sample_idx, score) in enumerate(scores):\n",
    "            sample_idx = int(sample_idx)\n",
    "            log_step = step // len(dataset)\n",
    "#             gt = dataset.dataset.dataset.labels[sample_idx]\n",
    "            _, _, gt = dataset[sample_idx]\n",
    "\n",
    "            # reset not yet forgotten samples \n",
    "            if sample_idx not in forgetting_times or score == gt:\n",
    "                forgetting_times[sample_idx] = -1\n",
    "                forgetting_times_step[sample_idx] = -1\n",
    "    \n",
    "            if score != gt and forgetting_times[sample_idx] == -1:\n",
    "                forgetting_times[sample_idx] = epoch\n",
    "                forgetting_times_step[sample_idx] = (epoch*num_logs_per_epoch + log_step) * steps_per_log\n",
    "    return forgetting_times, forgetting_times_step"
   ]
  },
  {
   "cell_type": "code",
   "execution_count": null,
   "metadata": {},
   "outputs": [],
   "source": [
    "forgetting_times_scores, fogetting_times_scores_steps = forgetting_time_from_scores(split_1_sample_scores_by_epoch, split_1_ds, thr=0.5)\n",
    "forgetting_times_preds, fogetting_times_preds_steps = forgetting_time_from_preds(split_1_sample_preds_by_epoch, split_1_ds)"
   ]
  },
  {
   "cell_type": "code",
   "execution_count": null,
   "metadata": {},
   "outputs": [],
   "source": [
    "split_1_forgetting_time_df = pd.DataFrame(\n",
    "    [(idx, fogetting_times_scores_steps[idx], fogetting_times_preds_steps[idx]) for idx in fogetting_times_scores_steps.keys()],\n",
    "    columns = ['sample_idx', 'scores_forgetting_time', 'preds_forgetting_time']\n",
    ")"
   ]
  },
  {
   "cell_type": "markdown",
   "metadata": {},
   "source": [
    "# Analysis"
   ]
  },
  {
   "cell_type": "code",
   "execution_count": 78,
   "metadata": {},
   "outputs": [],
   "source": [
    "to_comp = 'scores' # scores/preds\n",
    "ft_metric = f'{to_comp}_forgetting_time'\n",
    "lt_metric = f'{to_comp}_learning_time'\n",
    "\n",
    "metrics_df = pd.merge(split_1_metrics_df, split_1_forgetting_time_df, on='sample_idx')\n",
    "never_forgotten_thr = metrics_df[ft_metric].max() + 5000\n",
    "metrics_df.loc[metrics_df[ft_metric] == -1, ft_metric] = never_forgotten_thr + 5000"
   ]
  },
  {
   "cell_type": "code",
   "execution_count": 79,
   "metadata": {},
   "outputs": [],
   "source": [
    "shuffled_idx_2_original_idx = {i : x for i, x in enumerate(split_1_ds.dataset.indices)}\n",
    "metrics_df['original_sample_idx'] = metrics_df.sample_idx.apply(lambda x: shuffled_idx_2_original_idx[x])"
   ]
  },
  {
   "cell_type": "code",
   "execution_count": 80,
   "metadata": {},
   "outputs": [],
   "source": [
    "corrupted_indices = split_1_ds.dataset.dataset.corrupted_indices\n",
    "metrics_df['is_mislabeled'] = False\n",
    "metrics_df.loc[metrics_df.original_sample_idx.isin(corrupted_indices), 'is_mislabeled'] = True"
   ]
  },
  {
   "cell_type": "code",
   "execution_count": 81,
   "metadata": {},
   "outputs": [],
   "source": [
    "learning_time = metrics_df[lt_metric].values\n",
    "forgetting_time = metrics_df[ft_metric].values"
   ]
  },
  {
   "cell_type": "code",
   "execution_count": 82,
   "metadata": {},
   "outputs": [
    {
     "name": "stderr",
     "output_type": "stream",
     "text": [
      "No artists with labels found to put in legend.  Note that artists whose label start with an underscore are ignored when legend() is called with no argument.\n"
     ]
    },
    {
     "data": {
      "image/png": "[encoded data removed]",
      "text/plain": [
       "<Figure size 960x960 with 1 Axes>"
      ]
     },
     "metadata": {
      "needs_background": "light"
     },
     "output_type": "display_data"
    }
   ],
   "source": [
    "plt.figure(figsize=(8, 8), dpi=120)\n",
    "plt.scatter(learning_time[metrics_df[~metrics_df.is_mislabeled].index], forgetting_time[metrics_df[~metrics_df.is_mislabeled].index],\n",
    "            s=5, c='blue')\n",
    "plt.scatter(learning_time[metrics_df[metrics_df.is_mislabeled].index], forgetting_time[metrics_df[metrics_df.is_mislabeled].index],\n",
    "            s=5, c='r')\n",
    "plt.axhline(y=never_forgotten_thr, linestyle='dashed', c='red')\n",
    "plt.xlabel('Learning Time')\n",
    "plt.ylabel('Second Split Forgetting Time')\n",
    "plt.legend()\n",
    "plt.show()\n"
   ]
  },
  {
   "cell_type": "code",
   "execution_count": 75,
   "metadata": {},
   "outputs": [
    {
     "data": {
      "image/png": "[encoded data removed]",
      "text/plain": [
       "<Figure size 864x864 with 16 Axes>"
      ]
     },
     "metadata": {
      "needs_background": "light"
     },
     "output_type": "display_data"
    }
   ],
   "source": [
    "subset = mislabeled_subset\n",
    "\n",
    "fig, ax = plt.subplots(4, 4, figsize=(12, 12))\n",
    "ax = ax.ravel()\n",
    "\n",
    "for i in range(len(subset)):\n",
    "    if i >= 16:\n",
    "        break\n",
    "    \n",
    "    idx = subset[i]\n",
    "    \n",
    "    unnormalize = lambda x: x*0.3081 + 0.1307\n",
    "    \n",
    "    _, img, label = split_1_ds[idx]\n",
    "    np_img = (unnormalize(img.squeeze().numpy())*255).astype(int)\n",
    "\n",
    "    ax[i].imshow(np_img, cmap='gray')\n",
    "    ax[i].set_title(label)"
   ]
  },
  {
   "cell_type": "markdown",
   "metadata": {},
   "source": [
    "# TODO"
   ]
  },
  {
   "cell_type": "markdown",
   "metadata": {},
   "source": [
    "1. Syntetic label flips\n",
    "2. Сложить картинки и получить зашумленные картинки\n",
    "3. Посмотреть корреляции с метриками\n",
    "4. Уменьшить LR –> больше шагов/деталей\n",
    "5. Подумать над другими метриками\n",
    "6. Далее посмотреть на корреляцию с другими методами выделения аутлаеров\n",
    "\n",
    "Главный вопрос – не надо ли форгетин тайм считать после каждых N трейн шагов, чтобы получить лучшую динамику. Сейчас просто тема со степами неправильная"
   ]
  }
 ],
 "metadata": {
  "kernelspec": {
   "display_name": "Python 3 (ipykernel)",
   "language": "python",
   "name": "python3"
  },
  "language_info": {
   "codemirror_mode": {
    "name": "ipython",
    "version": 3
   },
   "file_extension": ".py",
   "mimetype": "text/x-python",
   "name": "python",
   "nbconvert_exporter": "python",
   "pygments_lexer": "ipython3",
   "version": "3.9.12"
  }
 },
 "nbformat": 4,
 "nbformat_minor": 4
}
